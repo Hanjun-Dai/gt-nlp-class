{
 "cells": [
  {
   "cell_type": "code",
   "execution_count": 11,
   "metadata": {
    "collapsed": true
   },
   "outputs": [],
   "source": [
    "import numpy as np\n",
    "from collections import defaultdict\n",
    "import xgboost as xgb\n",
    "import gtnlplib.preproc\n",
    "import gtnlplib.constants\n",
    "from nltk.tokenize import word_tokenize, sent_tokenize\n"
   ]
  },
  {
   "cell_type": "code",
   "execution_count": 6,
   "metadata": {
    "collapsed": true
   },
   "outputs": [],
   "source": [
    "reload(gtnlplib.preproc)\n",
    "\n",
    "gtnlplib.preproc.docsToBOWs(gtnlplib.constants.TRAINKEY)\n",
    "gtnlplib.preproc.docsToBOWs(gtnlplib.constants.DEVKEY)\n",
    "all_tr_insts,all_dev_insts= gtnlplib.preproc.loadInstances(gtnlplib.constants.TRAINKEY, gtnlplib.constants.DEVKEY)\n",
    "ac_train = gtnlplib.preproc.getAllCounts(gtnlplib.preproc.dataIterator(gtnlplib.constants.TRAINKEY))\n"
   ]
  },
  {
   "cell_type": "code",
   "execution_count": 9,
   "metadata": {
    "collapsed": false
   },
   "outputs": [],
   "source": [
    "ac_train[gtnlplib.constants.OFFSET] = 0\n",
    "a = sorted(ac_train.items(), key=lambda x:x[1], reverse=True)\n",
    "word_idx = {}\n",
    "for i in range(len(a)):\n",
    "    word_idx[a[i][0]] = i"
   ]
  },
  {
   "cell_type": "code",
   "execution_count": 12,
   "metadata": {
    "collapsed": false
   },
   "outputs": [
    {
     "ename": "ValueError",
     "evalue": "need more than 1 value to unpack",
     "output_type": "error",
     "traceback": [
      "\u001b[1;31m---------------------------------------------------------------------------\u001b[0m",
      "\u001b[1;31mValueError\u001b[0m                                Traceback (most recent call last)",
      "\u001b[1;32m<ipython-input-12-fc7ea41b0a94>\u001b[0m in \u001b[0;36m<module>\u001b[1;34m()\u001b[0m\n\u001b[0;32m     25\u001b[0m \u001b[1;33m\u001b[0m\u001b[0m\n\u001b[0;32m     26\u001b[0m \u001b[0mtrainX\u001b[0m\u001b[1;33m,\u001b[0m \u001b[0mtrainY\u001b[0m \u001b[1;33m=\u001b[0m \u001b[0mget_XY\u001b[0m\u001b[1;33m(\u001b[0m\u001b[0mgtnlplib\u001b[0m\u001b[1;33m.\u001b[0m\u001b[0mconstants\u001b[0m\u001b[1;33m.\u001b[0m\u001b[0mTRAINKEY\u001b[0m\u001b[1;33m)\u001b[0m\u001b[1;33m\u001b[0m\u001b[0m\n\u001b[1;32m---> 27\u001b[1;33m \u001b[0mdevX\u001b[0m\u001b[1;33m,\u001b[0m \u001b[0mdevY\u001b[0m \u001b[1;33m=\u001b[0m \u001b[0mget_XY\u001b[0m\u001b[1;33m(\u001b[0m\u001b[0mgtnlplib\u001b[0m\u001b[1;33m.\u001b[0m\u001b[0mconstants\u001b[0m\u001b[1;33m.\u001b[0m\u001b[0mTESTKEY\u001b[0m\u001b[1;33m)\u001b[0m\u001b[1;33m\u001b[0m\u001b[0m\n\u001b[0m",
      "\u001b[1;32m<ipython-input-12-fc7ea41b0a94>\u001b[0m in \u001b[0;36mget_XY\u001b[1;34m(filekey)\u001b[0m\n\u001b[0;32m      6\u001b[0m         \u001b[0mroot_folder\u001b[0m \u001b[1;33m=\u001b[0m \u001b[0mfilekey\u001b[0m\u001b[1;33m.\u001b[0m\u001b[0msplit\u001b[0m\u001b[1;33m(\u001b[0m\u001b[1;34m'/'\u001b[0m\u001b[1;33m)\u001b[0m\u001b[1;33m[\u001b[0m\u001b[1;36m0\u001b[0m\u001b[1;33m]\u001b[0m\u001b[1;33m\u001b[0m\u001b[0m\n\u001b[0;32m      7\u001b[0m         \u001b[1;32mfor\u001b[0m \u001b[0mname_label\u001b[0m \u001b[1;32min\u001b[0m \u001b[0mf_idxes\u001b[0m\u001b[1;33m:\u001b[0m\u001b[1;33m\u001b[0m\u001b[0m\n\u001b[1;32m----> 8\u001b[1;33m             \u001b[0mfilename\u001b[0m\u001b[1;33m,\u001b[0m \u001b[0mlabel\u001b[0m \u001b[1;33m=\u001b[0m \u001b[0mname_label\u001b[0m\u001b[1;33m.\u001b[0m\u001b[0msplit\u001b[0m\u001b[1;33m(\u001b[0m\u001b[1;34m' '\u001b[0m\u001b[1;33m)\u001b[0m\u001b[1;33m\u001b[0m\u001b[0m\n\u001b[0m\u001b[0;32m      9\u001b[0m             \u001b[0mfilename\u001b[0m \u001b[1;33m=\u001b[0m \u001b[0mroot_folder\u001b[0m \u001b[1;33m+\u001b[0m \u001b[1;34m'/'\u001b[0m \u001b[1;33m+\u001b[0m \u001b[0mfilename\u001b[0m\u001b[1;33m\u001b[0m\u001b[0m\n\u001b[0;32m     10\u001b[0m             \u001b[0mlabel\u001b[0m \u001b[1;33m=\u001b[0m \u001b[0mlabel\u001b[0m\u001b[1;33m.\u001b[0m\u001b[0mstrip\u001b[0m\u001b[1;33m(\u001b[0m\u001b[1;33m)\u001b[0m\u001b[1;33m\u001b[0m\u001b[0m\n",
      "\u001b[1;31mValueError\u001b[0m: need more than 1 value to unpack"
     ]
    }
   ],
   "source": [
    "def get_XY(filekey):\n",
    "    idx_dict = {'POS' : 0, 'NEG' : 1, 'NEU' : 2}\n",
    "    X = []\n",
    "    Y = []\n",
    "    with open(filekey, 'r') as f_idxes:\n",
    "        root_folder = filekey.split('/')[0]\n",
    "        for name_label in f_idxes:\n",
    "            filename, label = name_label.split(' ')\n",
    "            filename = root_folder + '/' + filename\n",
    "            label = label.strip()\n",
    "            with open(filename.strip(), 'r') as f:                \n",
    "                cur_seq = []\n",
    "                Y.append(idx_dict[label])\n",
    "                for line in f:\n",
    "                    decoded = line.decode('ascii','ignore')\n",
    "                    sentences = sent_tokenize(decoded)           \n",
    "                    for s in sentences:\n",
    "                        words = word_tokenize(s)        \n",
    "                        for w in words:\n",
    "                            w = w.lower()\n",
    "                            if w in word_idx:\n",
    "                                cur_seq.append(word_idx[w])\n",
    "                X.append(cur_seq)\n",
    "    return X, Y\n",
    "\n",
    "trainX, trainY = get_XY(gtnlplib.constants.TRAINKEY)\n",
    "devX, devY = get_XY(gtnlplib.constants.DEVKEY)"
   ]
  }
 ],
 "metadata": {
  "kernelspec": {
   "display_name": "Python 2",
   "language": "python",
   "name": "python2"
  },
  "language_info": {
   "codemirror_mode": {
    "name": "ipython",
    "version": 2
   },
   "file_extension": ".py",
   "mimetype": "text/x-python",
   "name": "python",
   "nbconvert_exporter": "python",
   "pygments_lexer": "ipython2",
   "version": "2.7.6"
  }
 },
 "nbformat": 4,
 "nbformat_minor": 0
}
