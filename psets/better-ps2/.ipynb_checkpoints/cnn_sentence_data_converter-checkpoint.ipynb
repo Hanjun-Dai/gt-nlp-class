{
 "cells": [
  {
   "cell_type": "code",
   "execution_count": 12,
   "metadata": {
    "collapsed": true
   },
   "outputs": [],
   "source": [
    "import numpy as np\n",
    "from collections import defaultdict\n",
    "import gtnlplib.constants\n",
    "from nltk.tokenize import word_tokenize, sent_tokenize"
   ]
  },
  {
   "cell_type": "code",
   "execution_count": 11,
   "metadata": {
    "collapsed": false
   },
   "outputs": [],
   "source": [
    "f_pos = open('CNN_sentence/review-train_dev.pos', 'w')\n",
    "f_neg = open('CNN_sentence/review-train_dev.neg', 'w')\n",
    "f_neu = open('CNN_sentence/review-train_dev.neu', 'w')\n",
    "fid_dict = {'POS' : f_pos, 'NEG' : f_neg, 'NEU' : f_neu}\n",
    "with open(gtnlplib.constants.TRAIN_DEVKEY, 'r') as f_idxes:\n",
    "    root_folder = gtnlplib.constants.TRAINKEY.split('/')[0]\n",
    "    for name_label in f_idxes:\n",
    "        filename, label = name_label.split(' ')\n",
    "        filename = root_folder + '/' + filename\n",
    "        with open(filename.strip(), 'r') as f:\n",
    "            for line in f:\n",
    "                decoded = line.decode('ascii','ignore')\n",
    "                fid_dict[label.strip()].write(decoded.strip() + '\\n')                \n",
    "f_pos.close()\n",
    "f_neg.close()\n",
    "f_neu.close()\n"
   ]
  }
 ],
 "metadata": {
  "kernelspec": {
   "display_name": "Python 2",
   "language": "python",
   "name": "python2"
  },
  "language_info": {
   "codemirror_mode": {
    "name": "ipython",
    "version": 2
   },
   "file_extension": ".py",
   "mimetype": "text/x-python",
   "name": "python",
   "nbconvert_exporter": "python",
   "pygments_lexer": "ipython2",
   "version": "2.7.6"
  }
 },
 "nbformat": 4,
 "nbformat_minor": 0
}
