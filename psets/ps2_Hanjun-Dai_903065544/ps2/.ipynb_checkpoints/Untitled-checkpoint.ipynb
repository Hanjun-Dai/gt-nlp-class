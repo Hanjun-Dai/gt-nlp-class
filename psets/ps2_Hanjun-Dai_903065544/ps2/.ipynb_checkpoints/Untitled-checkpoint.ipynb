{
 "cells": [
  {
   "cell_type": "code",
   "execution_count": 1,
   "metadata": {
    "collapsed": true
   },
   "outputs": [],
   "source": [
    "from nltk.tokenize import sent_tokenize, word_tokenize\n"
   ]
  },
  {
   "cell_type": "code",
   "execution_count": 7,
   "metadata": {
    "collapsed": false
   },
   "outputs": [
    {
     "name": "stdout",
     "output_type": "stream",
     "text": [
      "[u'Investment', u'Banker', u'with', u'a', u'conscience', u',', u'Ben', u'Hartman', u',', u'and', u'special', u'agent', u'Anna', u'Navaro', u\"'s\", u'plot', u'lines', u'and', u'bodies', u'soon', u'become', u'intertwined', u'in', u'their', u'quest', u'for', u'the', u'secrets', u'of', u'Sigma', u',', u'an', u'elite', u'cabal', u'with', u'roots', u'in', u'Nazi', u'Germany', u'that', u'is', u'bent', u'on', u'world', u'domination', u'.']\n"
     ]
    }
   ],
   "source": [
    "f = open('data/train/1559276878.txt', 'r')\n",
    "l = f.readline()\n",
    "f.close()\n",
    "l = l.decode('ascii', 'ignore').lower()\n",
    "a = sent_tokenize(l)\n",
    "b = word_tokenize(a[0])\n",
    "print b"
   ]
  }
 ],
 "metadata": {
  "kernelspec": {
   "display_name": "Python 2",
   "language": "python",
   "name": "python2"
  },
  "language_info": {
   "codemirror_mode": {
    "name": "ipython",
    "version": 2
   },
   "file_extension": ".py",
   "mimetype": "text/x-python",
   "name": "python",
   "nbconvert_exporter": "python",
   "pygments_lexer": "ipython2",
   "version": "2.7.6"
  }
 },
 "nbformat": 4,
 "nbformat_minor": 0
}
