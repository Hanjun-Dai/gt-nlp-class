{
 "cells": [
  {
   "cell_type": "code",
   "execution_count": 1,
   "metadata": {
    "collapsed": true
   },
   "outputs": [],
   "source": [
    "import numpy as np\n",
    "from collections import defaultdict\n",
    "import gtnlplib.constants\n",
    "reload(gtnlplib.constants)\n",
    "from nltk.tokenize import word_tokenize, sent_tokenize"
   ]
  },
  {
   "cell_type": "code",
   "execution_count": 4,
   "metadata": {
    "collapsed": false
   },
   "outputs": [],
   "source": [
    "def output_sentences(phase, keyfile):\n",
    "    f_pos = open('CNN_sentence/review-%s.pos' % phase, 'w')\n",
    "    f_neg = open('CNN_sentence/review-%s.neg' % phase, 'w')\n",
    "    f_neu = open('CNN_sentence/review-%s.neu' % phase, 'w')\n",
    "    fid_dict = {'POS' : f_pos, 'NEG' : f_neg, 'NEU' : f_neu}\n",
    "    with open(keyfile, 'r') as f_idxes:\n",
    "        root_folder = keyfile.split('/')[0]\n",
    "        for name_label in f_idxes:\n",
    "            filename, label = name_label.split(' ')\n",
    "            filename = root_folder + '/' + filename\n",
    "            label = label.strip()\n",
    "            with open(filename.strip(), 'r') as f:\n",
    "                for line in f:\n",
    "                    decoded = line.decode('ascii','ignore')\n",
    "                    sentences = sent_tokenize(decoded)\n",
    "                    for s in sentences:\n",
    "                        words = word_tokenize(s)\n",
    "                        cleaned = []\n",
    "                        for w in words:\n",
    "                            w = w.lower()\n",
    "                            if w.isalpha():                            \n",
    "                                cleaned.append(w)\n",
    "                        fid_dict[label].write(' '.join(cleaned) + '\\n')\n",
    "    f_pos.close()\n",
    "    f_neg.close()\n",
    "    f_neu.close()\n"
   ]
  },
  {
   "cell_type": "code",
   "execution_count": 5,
   "metadata": {
    "collapsed": false
   },
   "outputs": [],
   "source": [
    "output_sentences('train', gtnlplib.constants.TRAINKEY)\n",
    "output_sentences('dev', gtnlplib.constants.DEVKEY)"
   ]
  }
 ],
 "metadata": {
  "kernelspec": {
   "display_name": "Python 2",
   "language": "python",
   "name": "python2"
  },
  "language_info": {
   "codemirror_mode": {
    "name": "ipython",
    "version": 2
   },
   "file_extension": ".py",
   "mimetype": "text/x-python",
   "name": "python",
   "nbconvert_exporter": "python",
   "pygments_lexer": "ipython2",
   "version": "2.7.6"
  }
 },
 "nbformat": 4,
 "nbformat_minor": 0
}
