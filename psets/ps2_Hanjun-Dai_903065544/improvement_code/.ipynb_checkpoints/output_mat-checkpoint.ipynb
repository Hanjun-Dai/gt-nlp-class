{
 "cells": [
  {
   "cell_type": "code",
   "execution_count": 15,
   "metadata": {
    "collapsed": true
   },
   "outputs": [],
   "source": [
    "import numpy as np\n",
    "from collections import defaultdict\n",
    "import gtnlplib.preproc\n",
    "import gtnlplib.constants\n",
    "import scipy.io\n",
    "import gtnlplib.wordlist"
   ]
  },
  {
   "cell_type": "code",
   "execution_count": 2,
   "metadata": {
    "collapsed": true
   },
   "outputs": [],
   "source": [
    "gtnlplib.preproc.docsToBOWs(gtnlplib.constants.TRAINKEY)\n",
    "gtnlplib.preproc.docsToBOWs(gtnlplib.constants.DEVKEY)\n",
    "gtnlplib.preproc.docsToBOWs(gtnlplib.constants.TESTKEY)"
   ]
  },
  {
   "cell_type": "code",
   "execution_count": 35,
   "metadata": {
    "collapsed": false
   },
   "outputs": [],
   "source": [
    "\n",
    "ac_train = gtnlplib.preproc.getAllCounts(gtnlplib.preproc.dataIterator(gtnlplib.constants.TRAINKEY, test_mode=False))\n",
    "trainData = gtnlplib.preproc.dataIterator(gtnlplib.constants.TRAINKEY, test_mode=False)\n",
    "devData = gtnlplib.preproc.dataIterator(gtnlplib.constants.DEVKEY, test_mode=False)\n",
    "testData = gtnlplib.preproc.dataIterator(gtnlplib.constants.TESTKEY, test_mode=True)\n"
   ]
  },
  {
   "cell_type": "code",
   "execution_count": 27,
   "metadata": {
    "collapsed": false
   },
   "outputs": [],
   "source": [
    "\n",
    "word_idx = {}\n",
    "for w in ac_train:\n",
    "    word_idx[w] = len(word_idx)\n",
    "poswords, negwords = gtnlplib.wordlist.loadSentimentWords (gtnlplib.constants.SENTIMENT_FILE)\n"
   ]
  },
  {
   "cell_type": "code",
   "execution_count": 36,
   "metadata": {
    "collapsed": false
   },
   "outputs": [],
   "source": [
    "def get_XY(keyfile, testmode):\n",
    "    idx_dict = {'POS' : 0, 'NEG' : 1, 'NEU' : 2, 'UNK' : 3}\n",
    "    X = []\n",
    "    Y = []\n",
    "    data_iter = gtnlplib.preproc.dataIterator(keyfile, test_mode=testmode)\n",
    "    for i,(feat,label) in enumerate(data_iter):\n",
    "        Y.append(idx_dict[label])\n",
    "        cur = np.zeros(len(word_idx) + 2)\n",
    "        for w in feat:\n",
    "            if w in word_idx:\n",
    "                cur[word_idx[w]] = feat[w]        \n",
    "            if w in poswords:\n",
    "                cur[len(word_idx)] += feat[w]\n",
    "            elif w in negwords:\n",
    "                cur[len(word_idx) + 1] += feat[w]\n",
    "        X.append(cur)\n",
    "    Y = np.array(Y)\n",
    "    X = np.array(X)\n",
    "    return X, Y\n",
    "train_X, train_Y = get_XY(gtnlplib.constants.TRAINKEY, False)\n",
    "dev_X, dev_Y = get_XY(gtnlplib.constants.DEVKEY, False)\n",
    "test_X, test_Y = get_XY(gtnlplib.constants.TESTKEY, True)\n",
    "output_mat = 'bow-train_dev.mat'\n",
    "result = {'trainx' : train_X, 'trainy' : train_Y, 'devx' : dev_X, 'devy' : dev_Y, 'testx' : test_X}\n",
    "scipy.io.savemat(output_mat, result)"
   ]
  }
 ],
 "metadata": {
  "kernelspec": {
   "display_name": "Python 2",
   "language": "python",
   "name": "python2"
  },
  "language_info": {
   "codemirror_mode": {
    "name": "ipython",
    "version": 2
   },
   "file_extension": ".py",
   "mimetype": "text/x-python",
   "name": "python",
   "nbconvert_exporter": "python",
   "pygments_lexer": "ipython2",
   "version": "2.7.6"
  }
 },
 "nbformat": 4,
 "nbformat_minor": 0
}
