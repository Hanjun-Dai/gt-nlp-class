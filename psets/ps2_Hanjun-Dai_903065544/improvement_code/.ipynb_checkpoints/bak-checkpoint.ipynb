{
 "cells": [
  {
   "cell_type": "code",
   "execution_count": 2,
   "metadata": {
    "collapsed": false
   },
   "outputs": [
    {
     "name": "stdout",
     "output_type": "stream",
     "text": [
      "Populating the interactive namespace from numpy and matplotlib\n"
     ]
    }
   ],
   "source": [
    "import numpy as np\n",
    "from collections import defaultdict\n",
    "import gtnlplib.preproc\n",
    "import gtnlplib.preproc_metrics\n",
    "\n",
    "import gtnlplib.clf_base\n",
    "import gtnlplib.wordlist\n",
    "import gtnlplib.naivebayes\n",
    "import gtnlplib.perceptron\n",
    "import gtnlplib.avg_perceptron\n",
    "import gtnlplib.logreg\n",
    "\n",
    "import gtnlplib.scorer\n",
    "import gtnlplib.constants\n",
    "import gtnlplib.analysis\n",
    "import gtnlplib.weight_ensemble\n",
    "# this enables you to create inline plots in the notebook \n",
    "%pylab inline"
   ]
  },
  {
   "cell_type": "code",
   "execution_count": 2,
   "metadata": {
    "collapsed": false
   },
   "outputs": [],
   "source": [
    "### TRAINKEY, DEVKEY and TESTKEY are defined in the gtnlplib.constants module\n",
    "\n",
    "gtnlplib.preproc.docsToBOWs(gtnlplib.constants.TRAINKEY)\n",
    "gtnlplib.preproc.docsToBOWs(gtnlplib.constants.DEVKEY)\n",
    "## uncomment once you have the test data\n",
    "gtnlplib.preproc.docsToBOWs(gtnlplib.constants.TESTKEY)"
   ]
  },
  {
   "cell_type": "markdown",
   "metadata": {
    "collapsed": true
   },
   "source": [
    "WLC"
   ]
  },
  {
   "cell_type": "code",
   "execution_count": 3,
   "metadata": {
    "collapsed": false,
    "scrolled": true
   },
   "outputs": [
    {
     "name": "stdout",
     "output_type": "stream",
     "text": [
      "3 classes in key: set(['NEG', 'NEU', 'POS'])\n",
      "3 classes in response: set(['NEG', 'NEU', 'POS'])\n",
      "confusion matrix\n",
      "key\\response:\tNEG\tNEU\tPOS\n",
      "NEG\t\t36\t14\t61\t\n",
      "NEU\t\t22\t14\t99\t\n",
      "POS\t\t9\t13\t126\t\n",
      "----------------\n",
      "accuracy: 0.4467 = 176/394\n",
      "\n",
      "None\n"
     ]
    }
   ],
   "source": [
    "reload(gtnlplib.wordlist)\n",
    "\n",
    "poswords, negwords = gtnlplib.wordlist.loadSentimentWords (gtnlplib.constants.SENTIMENT_FILE)\n",
    "weights_wlc = gtnlplib.wordlist.learnWLCWeights (poswords, negwords)\n",
    "outfile = 'word_list.txt'\n",
    "mat = gtnlplib.clf_base.evalClassifier(weights_wlc,outfile, gtnlplib.constants.DEVKEY)\n",
    "print gtnlplib.scorer.printScoreMessage(mat)"
   ]
  },
  {
   "cell_type": "code",
   "execution_count": 4,
   "metadata": {
    "collapsed": false
   },
   "outputs": [
    {
     "name": "stdout",
     "output_type": "stream",
     "text": [
      "set(['pardon', 'desirable', 'encouragingly', 'integrity', 'sagely', 'outwit', 'wholeheartedly', 'tenacity', 'regal', 'pride', 'worth', 'compassion', 'tantalizing', 'gratification', 'courageous', 'prize', 'daydream', 'ovation', 'delightfully', 'steadfastness', 'triumph', 'veritable', 'pragmatic', 'elegant', 'crave', 'persuade', 'valiant', 'admire', 'preferences', 'desirous', 'liberty', 'reverently', 'endorse', 'justly', 'hero', 'festive', 'jubilantly', 'feisty', 'humility', 'celebration', 'uplifting', 'cogent', 'intrigue', 'astute', 'fantastic', 'patience', 'moral', 'romantically', 'catchy', 'motivate', 'glimmering', 'recommend', 'mesmerize', 'exuberantly', 'ardently', 'excellent', 'striving', 'famed', 'tremendously', 'advocacy', 'elegantly', 'radiance', 'joyous', 'assent', 'want', 'unforgettable', 'preferably', 'agreeability', 'stride', 'adventurism', 'amazing', 'preferable', 'dignified', 'beauty', 'breathlessness', 'loyalty', 'astoundingly', 'meaningful', 'rejoicingly', 'splendid', 'appreciate', 'greet', 'wink', 'upside', 'ultimate', 'gumption', 'devote', 'consent', 'outshine', 'soothingly', 'fidelity', 'admirably', 'pleasurably', 'fit', 'alluringly', 'better', 'entranced', 'compelling', 'valor', 'admirable', 'pleasurable', 'glorify', 'vouchsafe', 'amenable', 'memorialize', 'confute', 'ebullient', 'absolve', 'herald', 'marvellous', 'spotless', 'profusely', 'elatedly', 'luck', 'improvise', 'apotheosis', 'ameliorate', 'allay', 'truth', 'content', 'sparkle', 'unabashed', 'heavenly', 'fervid', 'masterpiece', 'dexterous', 'amazement', 'cornerstone', 'jubilant', 'undisputably', 'undaunted', 'flawless', 'tempting', 'aspire', 'undisputable', 'truthfulness', 'rapturously', 'angelic', 'playfully', 'reassure', 'encouraging', 'lovable', 'fantasy', 'delicious', 'thoughtfully', 'masterfully', 'outstandingly', 'euphoric', 'euphoria', 'enthral', 'master', 'insightful', 'enthrall', 'happily', 'embellish', 'wisdom', 'effusion', 'positively', 'mercy', 'congratulatory', 'exultation', 'splendidly', 'fabulous', 'endure', 'deserving', 'mirth', 'acclaim', 'willingness', 'enchanted', 'hug', 'arousal', 'unconcerned', 'praising', 'wholesome', 'convenient', 'eagerly', 'elation', 'recommended', 'amusing', 'propitious', 'visionary', 'affirmation', 'plenty', 'exonerate', 'morality', 'constancy', 'consummate', 'entertaining', 'marvel', 'sanctuary', 'inspire', 'endear', 'rapture', 'sage', 'respectfully', 'marvelously', 'toast', 'quaint', 'gutsy', 'bliss', 'studiously', 'excitedly', 'heartily', 'personality', 'rejoicing', 'ardor', 'foremost', 'tenaciously', 'considerate', 'relish', 'nicely', 'altruistically', 'monumental', 'stunningly', 'pacifist', 'enchant', 'fragrant', 'fascinating', 'sensitivity', 'gladness', 'winnable', 'allure', 'best', 'accede', 'immaculately', 'solicitude', 'humankind', 'hopefully', 'tolerance', 'enrapt', 'adventuresome', 'dexterously', 'idyllic', 'proactive', 'fearlessly', 'self-respect', 'exemplary', 'awesomely', 'majestic', 'gratitude', 'beneficiary', 'confident', 'miraculously', 'privilege', 'flexible', 'lovely', 'adroitly', 'idol', 'uncommon', 'well-run', 'dote', 'incisively', 'spellbind', 'gracious', 'dotingly', 'affirm', 'inviolable', 'rightness', 'dazzled', 'jest', 'amour', 'shimmering', 'admiration', 'agreeableness', 'harmony', 'world-famous', 'perspicuously', 'effortlessly', 'opulent', 'delight', 'renaissance', 'groundbreaking', 'opportunity', 'kid', 'stupendous', 'humble', 'bonny', 'greatest', 'admiringly', 'arousing', 'just', 'yep', 'yes', 'extol', 'amusingly', 'tolerably', 'exalt', 'obedient', 'beloved', 'righteous', 'tolerable', 'desire', 'unequivocally', 'auspicious', 'incontrovertible', 'befit', 'harmoniously', 'dignity', 'triumphal', 'zeal', 'gifted', 'excitedness', 'splendor', 'invaluable', 'unabashedly', 'beneficial', 'right', 'flatter', 'revel', 'dear', 'precautions', 'congratulate', 'humor', 'phenomenal', 'creative', 'witty', 'enticingly', 'adorable', 'palatable', 'bold', 'posh', 'staunchly', 'idolized', 'memorable', 'super', 'trustworthy', 'titillatingly', 'blithe', 'cherish', 'indelibly', 'superlative', 'lavishly', 'delighted', 'respectable', 'finely', 'amazingly', 'indispensable', 'illustrious', 'well-connected', 'obliged', 'unpretentious', 'happy', 'overjoyed', 'fascination', 'unfazed', 'vitality', 'illuminating', 'understandable', 'satisfactorily', 'astonished', 'safeguard', 'true', 'luxuriant', 'congratulations', 'incisive', 'invincible', 'bargain', 'generosity', 'adore', 'dare', 'ingenuously', 'stupendously', 'soothe', 'cure-all', 'acclaimed', 'curious', 'believable', 'levity', 'faithful', 'excel', 'frolic', 'eternity', 'clear-cut', 'guiltless', 'convincing', 'mightily', 'assiduous', 'trepidation', 'comely', 'magnificence', 'luckier', 'intimacy', 'undoubted', 'befriend', 'remarkable', 'incisiveness', 'obviate', 'grateful', 'remarkably', 'resourceful', 'devoted', 'devotee', 'extoll', 'rousing', 'amaze', 'compensate', 'persevere', 'exalted', 'rapturous', 'forgiving', 'pious', 'epic', 'impressive', 'excellency', 'enthuse', 'engrossing', 'excellence', 'better-than-expected', 'spiritual', 'brave', 'adulation', 'comforting', 'kindliness', 'enticing', 'stately', 'celebrated', 'pleasingly', 'favour', 'supporter', 'reminiscent', 'unbosom', 'ingenuous', 'lustrous', 'momentous', 'merriment', 'redemption', 'boast', 'brilliant', 'law-abiding', 'kemp', 'patriotic', 'priceless', 'conveniently', 'gorgeously', 'breathtaking', 'love', 'humour', 'keenness', 'erudite', 'prefer', 'hardier', 'marvelous', 'surmount', 'positiveness', 'vivid', 'captivate', 'ingenuity', 'cherished', 'upheld', 'adoringly', 'pro-Beijing', 'virtue', 'preponderance', 'indescribable', 'impel', 'harmonious', 'indescribably', 'stimulating', 'deservedly', 'dedicated', 'trump', 'awesome', 'admirer', 'chic', 'intelligible', 'evidently', 'fortunately', 'eloquent', 'strikingly', 'abidance', 'endorsement', 'optimal', 'sworn', 'paramount', 'peerless', 'praiseworthy', 'convincingly', 'flourish', 'infallibility', 'amuse', 'explicit', 'sagacity', 'fortuitously', 'dreamland', 'cute', 'innocuous', 'noteworthy', 'wishing', 'playful', 'yearn', 'accolades', 'rapport', 'thoughtfulness', 'avid', 'solace', 'interesting', 'attraction', 'smarter', 'courageously', 'hale', 'aspirations', 'placate', 'appreciatively', 'realist', 'truthful', 'realistic', 'revere', 'raptureously', 'edify', 'richly', 'preaching', 'prudently', 'amusement', 'giddy', 'ultimately', 'concur', 'enjoyable', 'abide', 'boundless', 'tingle', 'rational', 'ascendant', 'self-determination', 'palatial', 'oasis', 'matchless', 'skillfully', 'amiabily', 'heroize', 'invaluablely', 'gusto', 'honest', 'best-known', 'sensationally', 'profess', 'assuredly', 'striking', 'merrily', 'quasi-ally', 'truthfully', 'unselfish', 'fortuitous', 'terrifying', 'brainy', 'pacifists', 'brains', 'greatness', 'undoubtedly', 'raptureous', 'optimism', 'glossy', 'profuse', 'sublime', 'poeticize', 'kingmaker', 'sumptuous', 'workable', 'plausibility', 'incontestable', 'astonishingly', 'fashionable', 'irrefutable', 'terrific', 'acumen', 'ideal', 'fashionably', 'urge', 'sure', 'amiable', 'indelible', 'discerning', 'clearer', 'remunerate', 'expertly', 'supremely', 'well-intentioned', 'especially', 'flawlessly', 'saintliness', 'proud', 'gracefully', 'catalyst', 'unassailable', 'merit', 'elan', 'enthusiast', 'nice', 'favor', 'treasure', 'shimmer', 'well-wishers', 'explicitly', 'enthusiasm', 'thankful', 'godlike', 'infallibly', 'handily', 'truly', 'infallible', 'lionhearted', 'celebrate', 'pinnacle', 'keenly', 'heartwarming', 'enthralled', 'honesty', 'wonder', 'gratifying', 'steadfast', 'hopefulness', 'perspicuous', 'thinkable', 'fearless', 'gratefully', 'jovial', 'jaunty', 'talented', 'laudably', 'adroit', 'insist', 'satisfaction', 'gaiety', 'pundits', 'assertions', 'charismatic', 'laudable', 'sensible', 'almighty', 'stylishly', 'understated', 'sensibly', 'enraptured', 'truculently', 'blessing', 'impressiveness', 'scrupulously', 'attentive', 'offbeat', 'promising', 'eagerness', 'imperturbable', 'amiability', 'palliate', 'appreciativeness', 'sincere', 'embrace', 'rally', 'wisely', 'thrills', 'breathtakingly', 'poetic', 'triumphantly', 'deference', 'inoffensive', 'noble', 'deft', 'enjoyment', 'cheery', 'nobly', 'enchanting', 'awesomeness', 'purposeful', 'delectable', 'magical', 'staunchness', 'relief', 'reward', 'amazed', 'justify', 'knowledgeable', 'vibrantly', 'mannerly', 'electrification', 'lavish', 'dauntless', 'rosy', 'prettily', 'poised', 'joyful', 'grit', 'exult', 'spectacular', 'earnest', 'preference', 'grin', 'sensational', 'fortune', 'exquisitely', 'endorser', 'indisputable', 'sanity', 'gratifyingly', 'miraculous', 'passionate', 'well-received', 'satisfactory', 'sentimentally', 'venerable', 'divine', 'redeeming', 'eloquence', 'gladden', 'moderate', 'welcome', 'zest', 'indestructible', 'notable', 'poise', 'notably', 'terrified', 'squarely', 'exciting', 'fondness', 'joyfully', 'favorite', 'boldly', 'masterpieces', 'lofty', 'sensitively', 'chivalry', 'bountiful', 'featly', 'lively', 'heroine', 'compliant', 'stars', 'mollify', 'condone', 'immaculate', 'tranquility', 'regard', 'sophisticated', 'curiously', 'god-given', 'romantic', 'receptive', 'merriness', 'exemplar', 'hilarity', 'flatteringly', 'agree', 'affection', 'invigorating', 'ingeniously', 'tranquil', 'ideally', 'deserve', 'sanguine', 'accolade', 'repent', 'unparalleled', 'coherence', 'courtly', 'unanimous', 'prudent', 'titillating', 'dextrous', 'repay', 'thoughtful', 'homage', 'fervor', 'smile', 'pledges', 'resounding', 'straightforward', 'indubitable', 'righten', 'carefree', 'candid', 'indubitably', 'congenial', 'elated', 'benevolent', 'laud', 'sane', 'vanquish', 'vivacious', 'affable', 'quicken', 'advantageous', 'exhilaratingly', 'eminent', 'judicious', 'tribute', 'everlasting', 'plush', 'ingratiate', 'smartest', 'epitome', 'graciousness', 'cherub', 'exceptionally', 'dashing', 'gleeful', 'whimsical', 'thankfully', 'excellently', 're-conquest', 'sanction', 'crusader', 'zenith', 'warmhearted', 'gorgeous', 'befitting', 'pro-American', 'mellow', 'glad', 'willfully', 'beautiful', 'tenacious', 'dazzle', 'court', 'fame', 'glowing', 'sacred', 'credible', 'simplicity', 'okay', 'indomitably', 'indomitable', 'spectacularly', 'coax', 'wishes', 'pleasure', 'dream', 'heartfelt', 'closeness', 'perceptive', 'staunch', 'smiling', 'thrilling', 'tantalizingly', 'prodigy', 'harmless', 'astonish', 'heros', 'nifty', 'ebulliently', 'painstaking', 'might', 'ally', 'wry', 'motivated', 'generously', 'indefatigable', 'lovably', 'sweeping', 'trustworthiness', 'respectful', 'ingratiatingly', 'pro-peace', 'bless', 'exquisite', 'delightfulness', 'yearningly', 'beneficent', 'engaging', 'terrify', 'reverent', 'glitter', 'jolly', 'applaud', 'paradise', 'fortitude', 'darling', 'salute', 'expansive', 'boldness', 'forgive', 'extraordinary', 'entrancing', 'heroic', 'exaltedly', 'sensations', 'terrifyingly', 'fancy', 'humourous', 'effortless', 'marvelousness', 'peaceable', 'indulgent', 'obedience', 'heady', 'hallowed', 'wonderful', 'saint', 'aver', 'demystify', 'gleefully', 'uncommonly', 'appreciation', 'luckily', 'adulate', 'favorable', 'prodigious', 'grace', 'kind', 'kindly', 'motivation', 'hilariousness', 'fervidly', 'shrewd', 'ecstatically', 'warmly', 'blissful', 'vulnerable', 'thrillingly', 'serene', 'easygoing', 'adulatory', 'charm', 'enduring', 'prestige', 'goodwill', 'obediently', 'liberate', 'perseverance', 'ennoble', 'stunned', 'fond', 'sanctity', 'impressively', 'persuasively', 'defender', 'pretty', 'truculent', 'prowess', 'mercifully', 'courage', 'valuable', 'virtuously', 'charmingly', 'rewardingly', 'terrifically', 'recommendations', 'unfettered', 'precaution', 'loveliness', 'potent', 'plausible', 'arouse', 'manly', 'excusable', 'gaily', 'glistening', 'wow', 'worth-while', 'please', 'woo', 'beatify', 'compliment', 'candor', 'masterful', 'trustingly', 'lyrical', 'adorer', 'understatedly', 'adored', 'protector', 'blissfully', 'majesty', 'rave', 'patiently', 'bolster', 'apostle', 'outstanding', 'faithfully', 'sociable', 'astonishment', 'affectionate', 'excitingly', 'sentimentality', 'moderation', 'determination', 'intriguing', 'utmost', 'spellbindingly', 'civility', 'hilariously', 'fun', 'comrades', 'insistently', 'credence', 'heroically', 'astound', 'ecstasy', 'vow', 'beautifully', 'funny', 'forgiveness', 'famously', 'indispensability', 'tolerantly', 'moving', 'celebratory', 'salvation', 'persuasive', 'cheer', 'inspirational', 'savvy', 'romanticize', 'alluring', 'scrupulous', 'altruistic', 'profoundly', 'elegance', 'shrewdly', 'fitting', 'resourcefulness', 'eager', 'studious', 'exhilarate', 'bravery', 'harmonize', 'excited', 'luxury', 'fabulously', 'vindicate', 'joyless', 'advocate', 'enthusiastically', 'redeem', 'stirringly', 'pithy', 'sincerely', 'admittedly', 'pillar', 'manifest', 'consensus', 'moralize', 'surging', 'entice', 'stylish', 'ingratiating', 'amicably', 'irresistibly', 'humorous', 'impassioned', 'magnificent', 'euphorically', 'understood', 'mighty', 'miracle', 'trendy', 'sprightly', 'fanfare', 'amicable', 'irresistible', 'beneficially', 'proficient', 'exceeding', 'providence', 'lark', 'best-performing', 'twinkly', 'inclination', 'effusive', 'respite', 'togetherness', 'faith', 'deserved', 'conciliatory', 'forgave', 'shrewdness', 'complimentary', 'shiny', 'miracles', 'reverence', 'mesmerizingly', 'conscientious', 'calming', 'glowingly', 'statuesque', 'wonderfully', 'conceivable', 'glow', 'radiant', 'graciously', 'healthful', 'time-honored', 'well-regarded', 'reassurance', 'hopes', 'ecstasies', 'patriot', 'intuitive', 'foresight', 'ascertainable', 'highlight', 'awestruck', 'worthwhile', 'mindful', 'graceful', 'evocative', 'surmise', 'adoring', 'sumptuously', 'repentance', 'smitten', 'lucid', 'luxurious', 'fervently', 'phenomenally', 'rightful', 'destinies', 'wellbeing', 'admiring', 'enjoyably', 'soften', 'cheerful', 'renown', 'fascinatingly', 'uphold', 'suave', 'pleasing', 'friendly', 'virtuous', 'felicity', 'magic', 'mesmerizing', 'compassionate', 'idealize', 'outdo', 'friendliness', 'pledge', 'sensation', 'exuberant', 'ardent', 'outsmart', 'relent', 'justification', 'cozy', 'nimble', 'sexy', 'commendably', 'great', 'talent', 'benevolence', 'definitively', 'commendable', 'honor', 'chaste', 'worthy', 'clout', 'confidence', 'agreeably', 'seamless', 'contentment', 'agreeable', 'clever', 'beauteous', 'endurable', 'pro-Cuba', 'inclined', 'charming', 'steadfastly', 'magnanimous', 'felicitate', 'gladly', 'inclinations', 'meek', 'ebullience', 'exhilaration', 'praise', 'nurture', 'indulgence', 'painstakingly', 'earnestness', 'rapt', 'inviolate', 'idolize', 'trumpet', 'gainfully', 'magnificently', 'invincibility', 'daring', 'picturesque', 'justifiable', 'fortunate', 'unquestionably', 'sentiments', 'insistent', 'justifiably', 'intelligent', 'luster', 'luxuriously', 'tact', 'winners', 'impregnable', 'solidarity', 'entreatingly', 'regally', 'honestly', 'daringly', 'well-managed', 'understate', 'insight', 'lifeblood', 'flattering', 'unquestionable', 'perfect', 'glee', 'brook', 'vital', 'spellbound', 'wonderously', 'supurb', 'prosper', 'rectification', 'impervious', 'richness', 'incorruptible', 'self-satisfaction', 'shimmeringly', 'nurturing', 'kindness', 'handy', 'torridly', 'masters', 'thrill', 'profound', 'mastery', 'enviable', 'delightful', 'enviably', 'monumentally', 'illuminate', 'illuminati', 'upliftingly', 'gallant', 'sentiment', 'superbly', 'wondrous', 'hilarious', 'honorable', 'fondly', 'solicitously', 'frank', 'forgivingly', 'hanker', 'surely', 'tempt', 'craving', 'assiduously', 'courteous', 'keen', 'serenity', 'astutely', 'plainly', 'ethical', 'felicitous', 'rectifying', 'eminence', 'opportune', 'salutary', 'supurbly', 'glisten', 'unequivocal', 'realistically', 'gainful', 'exhilarating', 'perfectly', 'inestimably', 'vouch', 'jauntily', 'luckiness', 'inestimable', 'blameless', 'astounded', 'haven', 'exultingly', 'glamorous', 'aspiration', 'extraordinarily', 'appealing', 'halcyon', 'lover', 'distinguished', 'devotion', 'ingenious', 'imaginative', 'captivation', 'chivalrous', 'intriguingly', 'trusting', 'tidy', 'outstrip', 'clearly', 'saintly', 'skillful', 'awed', 'effusiveness', 'willful', 'seductive', 'passionately', 'resplendent', 'better-known', 'courtesy', 'awe', 'fervent', 'courageousness', 'refreshing', 'heartening', 'enthusiastic', 'astonishing', 'penitent', 'magnanimously', 'overachiever', 'insightfully', 'well-being', 'pleased', 'inspiring', 'illumine', 'conciliate', 'hopeful', 'handsome', 'hope', 'dodge', 'gratify', 'righteousness', 'exceptional', 'exaltation', 'irreproachable', 'lucky', 'perfection', 'spur', 'marvels', 'solicitous', 'preach', 'irrefutably', 'fantastically', 'yearning', 'humane', 'righteously', 'luckiest', 'destiny', 'invulnerable', 'superb', 'genius', 'beautify', 'correctly', 'complement', 'smilingly', 'joy', 'stellarly', 'merry', 'proficiently', 'precious', 'thank', 'joke', 'valiantly', 'galore', 'assure', 'admit', 'exalting', 'glorious', 'penetrating', 'commend', 'maximize', 'respect', 'jubilate', 'flourishing', 'propitiously', 'tremendous', 'dazzling', 'wonderous', 'willing', 'upbeat', 'divinely', 'altruist', 'attest', 'meritorious', 'overture', 'acclamation', 'novel', 'sanctify', 'promoter', 'will', 'stunning', 'ultra', 'likable', 'lush', 'encouragement', 'hearten', 'eulogize', 'temptingly', 'exuberance', 'merciful', 'eclectic', 'joyously', 'privileged', 'grandeur', 'effusively', 'impeccably', 'rightfully', 'prodigiously', 'amicability', 'impeccable', 'light-hearted', 'endearing', 'fascinate', 'venerably', 'exceedingly', 'scruples', 'attractively', 'surpass', 'happiness', 'generous', 'avidly', 'arresting', 'attractive', 'earnestly', 'smart', 'captivating', 'punctual', 'first-rate', 'miraculousness', 'gallantly', 'like', 'inquisitive', 'vibrant', 'lucidly', 'exceed', 'hail', 'recommendation', 'liking', 'supportive', 'appreciative', 'rewarding', 'passion', 'humorously', 'forgiven', 'obey', 'stellar', 'poignant', 'hospitable', 'well-informed', 'refuge', 'smartly', 'surge', 'eloquently', 'faithfulness', 'rectify', 'articulate', 'promise', 'esteem', 'brilliantly', 'doubtless', 'rejoice', 'support', 'upliftment', 'glimmer', 'jubilation', 'exaltingly', 'wise', 'glory', 'daydreamer', 'wish', 'triumphant', 'excitement', 'stirring', 'profusion', 'sumptuousness', 'supreme', 'rightly', 'worthiness', 'crusade', 'goodness', 'renowned', 'incredible', 'spellbinding', 'incredibly', 'uttermost', 'star', 'ecstatic', 'enchantingly', 'astounding', 'gloriously', 'inspiration', 'entreat', 'torrid', 'understand'])\n"
     ]
    }
   ],
   "source": [
    "print poswords"
   ]
  },
  {
   "cell_type": "markdown",
   "metadata": {},
   "source": [
    "You will first have to implement ```gtnlplib.naivebayes.learnNBWeights```, and then run it to get the weights of the naive bayes classifier."
   ]
  },
  {
   "cell_type": "code",
   "execution_count": 13,
   "metadata": {
    "collapsed": false
   },
   "outputs": [],
   "source": [
    "reload(gtnlplib.naivebayes)\n",
    "counts, class_counts,allkeys = gtnlplib.preproc.getCountsAndKeys(gtnlplib.constants.TRAINKEY)\n",
    "weights_nb = gtnlplib.naivebayes.learnNBWeights (counts, class_counts, allkeys, alpha=1.3)"
   ]
  },
  {
   "cell_type": "code",
   "execution_count": 14,
   "metadata": {
    "collapsed": true
   },
   "outputs": [],
   "source": [
    "alphas = [0.5, 1, 1.3, 1.5, 1.8, 2] #your choice!"
   ]
  },
  {
   "cell_type": "code",
   "execution_count": 15,
   "metadata": {
    "collapsed": false
   },
   "outputs": [],
   "source": [
    "weights_nb_alphas, tr_accs, dv_accs = gtnlplib.naivebayes.regularization_using_grid_search (alphas,counts, class_counts, allkeys)"
   ]
  },
  {
   "cell_type": "code",
   "execution_count": 16,
   "metadata": {
    "collapsed": false,
    "scrolled": true
   },
   "outputs": [
    {
     "name": "stdout",
     "output_type": "stream",
     "text": [
      "0.5 0.962179487179 0.515228426396\n",
      "1 0.94358974359 0.522842639594\n",
      "1.3 0.93141025641 0.522842639594\n",
      "1.5 0.924358974359 0.522842639594\n",
      "1.8 0.904487179487 0.522842639594\n",
      "2 0.896153846154 0.520304568528\n"
     ]
    }
   ],
   "source": [
    "for i,alpha in enumerate (alphas):\n",
    "    print alpha, tr_accs[i], dv_accs[i]"
   ]
  },
  {
   "cell_type": "code",
   "execution_count": 8,
   "metadata": {
    "collapsed": false
   },
   "outputs": [],
   "source": [
    "all_tr_insts,all_dev_insts= gtnlplib.preproc.loadInstances(gtnlplib.constants.TRAINKEY, gtnlplib.constants.DEVKEY)"
   ]
  },
  {
   "cell_type": "code",
   "execution_count": 9,
   "metadata": {
    "collapsed": false,
    "scrolled": true
   },
   "outputs": [
    {
     "name": "stdout",
     "output_type": "stream",
     "text": [
      "0 dev:  0.484771573604 train:  0.400641025641\n",
      "1 dev:  0.517766497462 train:  0.533974358974\n",
      "2 dev:  0.530456852792 train:  0.616666666667\n",
      "3 dev:  0.55076142132 train:  0.662179487179\n",
      "4 dev:  0.532994923858 train:  0.657692307692\n",
      "5 dev:  0.555837563452 train:  0.755128205128\n",
      "6 dev:  0.568527918782 train:  0.798076923077\n",
      "7 dev:  0.578680203046 train:  0.839102564103\n",
      "8 dev:  0.573604060914 train:  0.790384615385\n",
      "9 dev:  0.573604060914 train:  0.836538461538\n"
     ]
    }
   ],
   "source": [
    "reload(gtnlplib.avg_perceptron)\n",
    "# again, this takes roughly 30 seconds for me\n",
    "outfile = \"ap.txt\"\n",
    "w_ap,tr_acc_ap,dv_acc_ap = gtnlplib.avg_perceptron.trainAvgPerceptron(10,all_tr_insts,gtnlplib.constants.ALL_LABELS, outfile,gtnlplib.constants.DEVKEY)"
   ]
  },
  {
   "cell_type": "markdown",
   "metadata": {},
   "source": [
    "# 8. Logistic regression #\n",
    "\n",
    "Now you will complete an implementation of logistic regression.\n",
    "We've provided a lot of scaffolding code, you just need to fill in some key parts."
   ]
  },
  {
   "cell_type": "code",
   "execution_count": 34,
   "metadata": {
    "collapsed": false,
    "scrolled": true
   },
   "outputs": [
    {
     "name": "stdout",
     "output_type": "stream",
     "text": [
      "0 dev: 0.451776649746 train: 0.407953816549\n",
      "1 dev: 0.477157360406 train: 0.4791533034\n",
      "2 dev: 0.479695431472 train: 0.514432328416\n",
      "3 dev: 0.489847715736 train: 0.529185375241\n",
      "4 dev: 0.507614213198 train: 0.556125721616\n",
      "5 dev: 0.51269035533 train: 0.573444515715\n",
      "6 dev: 0.52538071066 train: 0.590763309814\n",
      "7 dev: 0.532994923858 train: 0.599743425273\n",
      "8 dev: 0.540609137056 train: 0.607440667094\n",
      "9 dev: 0.545685279188 train: 0.614496472097\n",
      "10 dev: 0.545685279188 train: 0.620269403464\n",
      "11 dev: 0.548223350254 train: 0.628608082104\n",
      "12 dev: 0.553299492386 train: 0.631173829378\n",
      "13 dev: 0.553299492386 train: 0.636946760744\n",
      "14 dev: 0.558375634518 train: 0.645926876203\n",
      "15 dev: 0.56345177665 train: 0.653624118024\n",
      "16 dev: 0.56345177665 train: 0.661321359846\n",
      "17 dev: 0.558375634518 train: 0.667735728031\n",
      "18 dev: 0.558375634518 train: 0.67222578576\n",
      "19 dev: 0.560913705584 train: 0.677998717126\n",
      "20 dev: 0.56345177665 train: 0.683130211674\n",
      "21 dev: 0.56345177665 train: 0.688261706222\n",
      "22 dev: 0.560913705584 train: 0.69339320077\n",
      "23 dev: 0.558375634518 train: 0.697883258499\n",
      "24 dev: 0.558375634518 train: 0.70173187941\n",
      "25 dev: 0.56345177665 train: 0.704297626684\n",
      "26 dev: 0.565989847716 train: 0.705580500321\n",
      "27 dev: 0.565989847716 train: 0.709429121232\n",
      "28 dev: 0.560913705584 train: 0.711994868505\n",
      "29 dev: 0.560913705584 train: 0.712636305324\n",
      "30 dev: 0.560913705584 train: 0.715843489416\n",
      "31 dev: 0.555837563452 train: 0.720974983964\n",
      "32 dev: 0.555837563452 train: 0.724182168056\n",
      "33 dev: 0.555837563452 train: 0.725465041693\n",
      "34 dev: 0.558375634518 train: 0.728030788967\n",
      "35 dev: 0.558375634518 train: 0.729955099423\n",
      "36 dev: 0.558375634518 train: 0.735728030789\n",
      "37 dev: 0.558375634518 train: 0.738293778063\n",
      "38 dev: 0.558375634518 train: 0.740859525337\n",
      "39 dev: 0.558375634518 train: 0.742783835792\n",
      "40 dev: 0.558375634518 train: 0.744708146248\n",
      "41 dev: 0.56345177665 train: 0.746632456703\n",
      "42 dev: 0.565989847716 train: 0.751122514432\n",
      "43 dev: 0.568527918782 train: 0.757536882617\n",
      "44 dev: 0.568527918782 train: 0.758819756254\n",
      "45 dev: 0.571065989848 train: 0.762026940346\n",
      "46 dev: 0.571065989848 train: 0.762668377165\n",
      "47 dev: 0.571065989848 train: 0.763309813983\n",
      "48 dev: 0.573604060914 train: 0.765234124439\n",
      "49 dev: 0.571065989848 train: 0.767799871713\n",
      "50 dev: 0.571065989848 train: 0.770365618987\n",
      "51 dev: 0.571065989848 train: 0.77293136626\n",
      "52 dev: 0.568527918782 train: 0.774855676716\n",
      "53 dev: 0.568527918782 train: 0.778062860808\n",
      "54 dev: 0.568527918782 train: 0.779345734445\n",
      "55 dev: 0.568527918782 train: 0.781270044901\n",
      "56 dev: 0.568527918782 train: 0.781911481719\n",
      "57 dev: 0.571065989848 train: 0.783194355356\n",
      "58 dev: 0.573604060914 train: 0.784477228993\n",
      "59 dev: 0.573604060914 train: 0.785118665811\n",
      "60 dev: 0.573604060914 train: 0.78576010263\n",
      "61 dev: 0.573604060914 train: 0.787042976267\n",
      "62 dev: 0.573604060914 train: 0.788967286722\n",
      "63 dev: 0.573604060914 train: 0.790250160359\n",
      "64 dev: 0.573604060914 train: 0.790250160359\n",
      "65 dev: 0.57614213198 train: 0.792174470815\n",
      "66 dev: 0.57614213198 train: 0.793457344452\n",
      "67 dev: 0.57614213198 train: 0.793457344452\n",
      "68 dev: 0.573604060914 train: 0.794740218089\n",
      "69 dev: 0.57614213198 train: 0.795381654907\n",
      "70 dev: 0.57614213198 train: 0.795381654907\n",
      "71 dev: 0.57614213198 train: 0.796023091725\n",
      "72 dev: 0.57614213198 train: 0.796664528544\n",
      "73 dev: 0.571065989848 train: 0.797305965362\n",
      "74 dev: 0.573604060914 train: 0.799230275818\n",
      "75 dev: 0.57614213198 train: 0.801796023092\n",
      "76 dev: 0.583756345178 train: 0.80243745991\n",
      "77 dev: 0.583756345178 train: 0.803720333547\n",
      "78 dev: 0.583756345178 train: 0.804361770366\n",
      "79 dev: 0.581218274112 train: 0.805644644003\n"
     ]
    }
   ],
   "source": [
    "reload(gtnlplib.logreg)\n",
    "outfile = \"sgd.txt\"\n",
    "w_sgd,tr_acc_sgd,dv_acc_sgd = gtnlplib.logreg.trainLRbySGD(80,all_tr_insts, outfile, gtnlplib.constants.DEVKEY, regularizer=1e-2)"
   ]
  },
  {
   "cell_type": "code",
   "execution_count": 138,
   "metadata": {
    "collapsed": false
   },
   "outputs": [
    {
     "name": "stdout",
     "output_type": "stream",
     "text": [
      "Dev accuracy is  0.626903553299 (247 correct of 394)\n",
      "Kaggle submission saved to Dai-Hanjun.response . Sanity check: public leaderboard accuracy should be  0.626903553299 on submission.\n"
     ]
    }
   ],
   "source": [
    "reload(gtnlplib.weight_ensemble)\n",
    "avg_weight = gtnlplib.weight_ensemble.ensemble([(weights_wlc, 7.0), (weights_nb, 3.0), (w_ap, 0.4), (w_sgd, 1)])\n",
    "yourBestWeights = avg_weight # Change this to your best model\n",
    "gtnlplib.clf_base.generateKaggleSubmission(yourBestWeights, 'Dai-Hanjun.response')"
   ]
  }
 ],
 "metadata": {
  "kernelspec": {
   "display_name": "Python 2",
   "language": "python",
   "name": "python2"
  },
  "language_info": {
   "codemirror_mode": {
    "name": "ipython",
    "version": 2
   },
   "file_extension": ".py",
   "mimetype": "text/x-python",
   "name": "python",
   "nbconvert_exporter": "python",
   "pygments_lexer": "ipython2",
   "version": "2.7.6"
  }
 },
 "nbformat": 4,
 "nbformat_minor": 0
}
