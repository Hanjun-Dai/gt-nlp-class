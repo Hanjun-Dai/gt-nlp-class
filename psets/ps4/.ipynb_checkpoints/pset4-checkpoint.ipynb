{
 "cells": [
  {
   "cell_type": "markdown",
   "metadata": {},
   "source": [
    "Problem Set 4: Sequence labeling\n",
    "=====================\n",
    "\n",
    "This project focuses on sequence labeling, in the target domain of Twitter part-of-speech tagging.\n",
    "Part (b) focuses on *discriminative* approaches, mainly averaged perceptron and structured perceptron.\n"
   ]
  },
  {
   "cell_type": "markdown",
   "metadata": {},
   "source": [
    "###Submission guidelines:###\n",
    "\n",
    "Here are some submission guidelines for the problem set submission on t-square. Please try to adhere to them as it makes grading simpler.\n",
    "\n",
    "* Submit these 3 things on tsquare: \n",
    "\n",
    "   * compressed gtnlplib folder containing all your code. Please don't attach all python files separately to t-square. \n",
    "    \n",
    "   * pset4.ipynb to present all your explanation answers and results.\n",
    "    \n",
    "   * There will be multiple response files that will be generated throughout the assignment. 4 for your normal models on dev data and 1 for bake off on test data. Use createSubmission.sh script to compress these files and submit the generated response_files.tar on Tsquare.\n",
    "\n",
    "\n",
    "   * For 'Error Analysis' part write your answers in the notebook only. If you want to point to any code/functions that you have written separately, please point the location of code in the notebook file.\n",
    "\n",
    "* Please don't modify any of the relative paths to data. You can copy the 'data' folder according to the given relatove path in the 'gtnlplib/constants.py' while working through the assignment."
   ]
  },
  {
   "cell_type": "code",
   "execution_count": 1,
   "metadata": {
    "collapsed": false
   },
   "outputs": [
    {
     "name": "stdout",
     "output_type": "stream",
     "text": [
      "Populating the interactive namespace from numpy and matplotlib\n"
     ]
    }
   ],
   "source": [
    "import operator\n",
    "from collections import defaultdict, Counter\n",
    "import matplotlib.pyplot as plt\n",
    "%pylab --no-import-all inline\n",
    "\n",
    "import gtnlplib.preproc\n",
    "import gtnlplib.viterbi\n",
    "import gtnlplib.clf_base\n",
    "import gtnlplib.scorer\n",
    "import gtnlplib.constants\n",
    "import gtnlplib.features\n",
    "import gtnlplib.tagger_base\n",
    "import gtnlplib.avg_perceptron\n",
    "import gtnlplib.str_perceptron\n",
    "import matplotlib.pyplot as plt"
   ]
  },
  {
   "cell_type": "code",
   "execution_count": 2,
   "metadata": {
    "collapsed": false
   },
   "outputs": [
    {
     "data": {
      "text/plain": [
       "<module 'gtnlplib.preproc' from 'gtnlplib/preproc.pyc'>"
      ]
     },
     "execution_count": 2,
     "metadata": {},
     "output_type": "execute_result"
    }
   ],
   "source": [
    "reload(gtnlplib.preproc)"
   ]
  },
  {
   "cell_type": "code",
   "execution_count": 3,
   "metadata": {
    "collapsed": true
   },
   "outputs": [],
   "source": [
    "## Define the file names\n",
    "trainfile = gtnlplib.constants.TRAIN_FILE\n",
    "devfile = gtnlplib.constants.DEV_FILE\n",
    "testfile = gtnlplib.constants.TEST_FILE # You do not have this for now\n",
    "offset = gtnlplib.constants.OFFSET"
   ]
  },
  {
   "cell_type": "code",
   "execution_count": 4,
   "metadata": {
    "collapsed": false
   },
   "outputs": [],
   "source": [
    "# for convenience\n",
    "tr_all = []\n",
    "for i,(words,tags) in enumerate(gtnlplib.preproc.conllSeqGenerator(trainfile)):\n",
    "    tr_all.append((words,tags))"
   ]
  },
  {
   "cell_type": "code",
   "execution_count": 5,
   "metadata": {
    "collapsed": false
   },
   "outputs": [
    {
     "name": "stdout",
     "output_type": "stream",
     "text": [
      "set(['!', '#', '$', '&', ',', 'A', '@', 'E', 'D', 'G', 'M', 'L', 'O', 'N', 'P', 'S', 'R', 'U', 'T', 'V', 'Y', 'X', 'Z', '^', '~'])\n"
     ]
    }
   ],
   "source": [
    "## Demo\n",
    "alltags = set()\n",
    "for i,(words, tags) in enumerate(gtnlplib.preproc.conllSeqGenerator(trainfile)):    \n",
    "    for tag in tags:\n",
    "        alltags.add(tag)\n",
    "print alltags\n"
   ]
  },
  {
   "cell_type": "markdown",
   "metadata": {},
   "source": [
    "# 1. Classification-based tagging #\n",
    "\n",
    "First, you will perform tagging as classification problem."
   ]
  },
  {
   "cell_type": "markdown",
   "metadata": {},
   "source": [
    "Recall that in structured prediction, we have the feature function decompose:\n",
    "\n",
    "\\begin{align}\n",
    "\\renewcommand{\\vec}[1]{\\mathbf{#1}}\n",
    "\\vec{f}(\\vec{w},\\vec{y}) & = \\sum_m \\vec{f}(\\vec{w},y_m, y_{m-1}, m)\n",
    "\\end{align}\n",
    "\n",
    "You will explicitly define your feature functions in this way -- even for the classification-based tagger, which won't consider $y_{m-1}$. The features themselves are defined as tuples, as in pset 3.\n",
    "\n",
    "Here is a simple example:"
   ]
  },
  {
   "cell_type": "code",
   "execution_count": 6,
   "metadata": {
    "collapsed": true
   },
   "outputs": [],
   "source": [
    "def wordFeatures(words,tag,prev_tag,m):\n",
    "    '''\n",
    "    :param words: a list of words\n",
    "    :type words: list\n",
    "    :param tag: a tag\n",
    "    :type tag: string\n",
    "    :type prev_tag: string\n",
    "    :type m: int\n",
    "    '''\n",
    "    out = {(offset,tag):1}\n",
    "    if m < len(words): #we can have m = M, for the transition to the end state\n",
    "        out[(gtnlplib.constants.EMIT,tag,words[m])]=1\n",
    "    return out"
   ]
  },
  {
   "cell_type": "code",
   "execution_count": 7,
   "metadata": {
    "collapsed": true
   },
   "outputs": [],
   "source": [
    "sent = 'they can can fish'.split()"
   ]
  },
  {
   "cell_type": "code",
   "execution_count": 8,
   "metadata": {
    "collapsed": false
   },
   "outputs": [
    {
     "data": {
      "text/plain": [
       "{('**OFFSET**', 'V'): 1, ('--EMISSION--', 'V', 'they'): 1}"
      ]
     },
     "execution_count": 8,
     "metadata": {},
     "output_type": "execute_result"
    }
   ],
   "source": [
    "wordFeatures(sent,'V','V',0)"
   ]
  },
  {
   "cell_type": "markdown",
   "metadata": {},
   "source": [
    "**Deliverable 1a** (1 point) Complete feature function 'wordCharFeatures' in gtnlplib/features.py, which includes the final character of the current word, and the final character of the preceding word (if $m > 1$) along with above features. The names for these features are defined in gtnlplib.constants."
   ]
  },
  {
   "cell_type": "code",
   "execution_count": 9,
   "metadata": {
    "collapsed": false
   },
   "outputs": [
    {
     "data": {
      "text/plain": [
       "<module 'gtnlplib.features' from 'gtnlplib/features.pyc'>"
      ]
     },
     "execution_count": 9,
     "metadata": {},
     "output_type": "execute_result"
    }
   ],
   "source": [
    "reload(gtnlplib.features)"
   ]
  },
  {
   "cell_type": "code",
   "execution_count": 10,
   "metadata": {
    "collapsed": false
   },
   "outputs": [
    {
     "name": "stdout",
     "output_type": "stream",
     "text": [
      "{('--curr-suff--', 'V', 'n'): 1, ('--EMISSION--', 'V', 'can'): 1, ('**OFFSET**', 'V'): 1, ('--prev-suff--', 'V', 'y'): 1}\n",
      "{('--curr-suff--', 'V', 'y'): 1, ('**OFFSET**', 'V'): 1, ('--EMISSION--', 'V', 'they'): 1}\n"
     ]
    }
   ],
   "source": [
    "# sanity check desired output\n",
    "print gtnlplib.features.wordCharFeatures(sent,'V','V',1)\n",
    "# no prev-suff feature in this one, because m=0\n",
    "print gtnlplib.features.wordCharFeatures(sent,'V','V',0)"
   ]
  },
  {
   "cell_type": "markdown",
   "metadata": {},
   "source": [
    "Now you will define a classification-based tagger. To get you started, here are some test weights."
   ]
  },
  {
   "cell_type": "code",
   "execution_count": 11,
   "metadata": {
    "collapsed": false
   },
   "outputs": [
    {
     "name": "stdout",
     "output_type": "stream",
     "text": [
      "defaultdict(<type 'float'>, {('--EMISSION--', 'X', 'fish'): 1, ('--EMISSION--', 'N', 'fish'): 1, ('--EMISSION--', 'X', 'they'): 1, ('--EMISSION--', 'V', 'can'): 1, ('**OFFSET**', 'V'): 1, ('--EMISSION--', 'N', 'they'): 1, ('**OFFSET**', 'N'): 1, ('--EMISSION--', 'X', 'can'): 1, ('**OFFSET**', 'X'): 1})\n"
     ]
    }
   ],
   "source": [
    "test_weights = defaultdict(float)\n",
    "test_tags = ['N','V','V','N']\n",
    "for i in range(len(sent)):\n",
    "    for feat in wordFeatures(sent,test_tags[i],'X',i):\n",
    "        test_weights[feat] = 1\n",
    "    for feat in wordFeatures(sent,'X','X',i):\n",
    "        test_weights[feat] = 1\n",
    "print test_weights"
   ]
  },
  {
   "cell_type": "code",
   "execution_count": 12,
   "metadata": {
    "collapsed": true
   },
   "outputs": [],
   "source": [
    "# use this to find the highest-scoring label\n",
    "argmax = lambda x : max(x.iteritems(),key=operator.itemgetter(1))[0]"
   ]
  },
  {
   "cell_type": "markdown",
   "metadata": {},
   "source": [
    "**Deliverable 1b** (1 point): Complete the function classifierTagger in gtnlplib/tagger_base.py that takes a list of words, feature function, dict of weights, and a tagset, and outputs a list of predicted tags (one per word).\n",
    "\n",
    "You should use featfunc to get the features and return the list of tags with highest score for each word."
   ]
  },
  {
   "cell_type": "code",
   "execution_count": 13,
   "metadata": {
    "collapsed": false
   },
   "outputs": [
    {
     "data": {
      "text/plain": [
       "['N', 'V', 'V', 'N']"
      ]
     },
     "execution_count": 13,
     "metadata": {},
     "output_type": "execute_result"
    }
   ],
   "source": [
    "gtnlplib.tagger_base.classifierTagger(sent,wordFeatures,test_weights,alltags)"
   ]
  },
  {
   "cell_type": "code",
   "execution_count": 14,
   "metadata": {
    "collapsed": false
   },
   "outputs": [
    {
     "name": "stdout",
     "output_type": "stream",
     "text": [
      "0.139539705577\n"
     ]
    }
   ],
   "source": [
    "confusion = gtnlplib.tagger_base.evalTagger(lambda words,alltags : gtnlplib.tagger_base.classifierTagger(words,wordFeatures,test_weights,alltags),'test')\n",
    "print gtnlplib.scorer.accuracy(confusion)"
   ]
  },
  {
   "cell_type": "markdown",
   "metadata": {
    "collapsed": true
   },
   "source": [
    "**Deliverable 1c** (3 points): Apply your averaged perceptron from pset 2 to do part-of-speech tagging. Start by adapting your oneItAvgPerceptron function. You'll have to make some changes:\n",
    "\n",
    "- Replace your call to the predict() function with a call to classifierTagger()\n",
    "- The instanceGenerator now produces word lists and tag lists as instances, instead of feature counts.\n",
    "- You can treat entire sentences as instances, if you want -- this may be slightly easier. This means that you only update the weights after seeing an entire sentence, sort of like a minibatch.\n",
    "- You'll want to add the feature function as an extra argument to both oneItAvgPerceptron and trainAvgPerceptron\n",
    "- return the training accuracy rather than the number of errors"
   ]
  },
  {
   "cell_type": "markdown",
   "metadata": {},
   "source": [
    "Complete oneItAvgPerceptron function from gtnlplib/avg_perceptron.py for this part."
   ]
  },
  {
   "cell_type": "code",
   "execution_count": 15,
   "metadata": {
    "collapsed": false
   },
   "outputs": [
    {
     "data": {
      "text/plain": [
       "<module 'gtnlplib.avg_perceptron' from 'gtnlplib/avg_perceptron.pyc'>"
      ]
     },
     "execution_count": 15,
     "metadata": {},
     "output_type": "execute_result"
    }
   ],
   "source": [
    "reload(gtnlplib.avg_perceptron)"
   ]
  },
  {
   "cell_type": "code",
   "execution_count": 16,
   "metadata": {
    "collapsed": false
   },
   "outputs": [],
   "source": [
    "weights,wsum,tr_acc,i = gtnlplib.avg_perceptron.oneItAvgPerceptron(tr_all,wordFeatures,defaultdict(float),defaultdict(float),alltags)"
   ]
  },
  {
   "cell_type": "code",
   "execution_count": 17,
   "metadata": {
    "collapsed": false
   },
   "outputs": [
    {
     "name": "stdout",
     "output_type": "stream",
     "text": [
      "16.0 2611.0\n",
      "-1.0 -212.0\n",
      "2.0 587.0\n",
      "5.0 942.0\n"
     ]
    }
   ],
   "source": [
    "#sanity check. The weight sum numbers might be different if you don't treat sentences as instances, which is what I do.\n",
    "print weights[gtnlplib.constants.EMIT,'D','the'], wsum[gtnlplib.constants.EMIT,'D','the']\n",
    "print weights[gtnlplib.constants.EMIT,'N','the'], wsum[gtnlplib.constants.EMIT,'N','the']\n",
    "print weights[gtnlplib.constants.EMIT,'V','like'], wsum[gtnlplib.constants.EMIT,'V','like']\n",
    "print weights[gtnlplib.constants.EMIT,'P','like'], wsum[gtnlplib.constants.EMIT,'P','like']"
   ]
  },
  {
   "cell_type": "markdown",
   "metadata": {},
   "source": [
    "**Deliverable 1d** (2 points): Now adapt trainAvgPerceptron function in gtnlplib/avg_perceptron.py to do tagging. This should require fewer changes than oneItAvgPerceptron, but you will have to:\n",
    "\n",
    "- take a feature function as an argument\n",
    "- call evalTagger instead of evalClassifier to get the confusion matrix\n",
    "- don't forget you've modified oneItAvgPerceptron to return the training set accuracy, not the number of errors"
   ]
  },
  {
   "cell_type": "code",
   "execution_count": 18,
   "metadata": {
    "collapsed": false
   },
   "outputs": [
    {
     "name": "stdout",
     "output_type": "stream",
     "text": [
      "0 dev: 0.673439767779 train: 0.523428415076\n",
      "1 dev: 0.710346257516 train: 0.685477802859\n",
      "2 dev: 0.729836201534 train: 0.764279362473\n",
      "3 dev: 0.736678415924 train: 0.824953827211\n",
      "4 dev: 0.742691270993 train: 0.853615158356\n",
      "5 dev: 0.746423387933 train: 0.879813940762\n",
      "6 dev: 0.746423387933 train: 0.89034817703\n",
      "7 dev: 0.746630727763 train: 0.899445926534\n",
      "8 dev: 0.747045407423 train: 0.903892195089\n",
      "9 dev: 0.747460087083 train: 0.904713044668\n"
     ]
    }
   ],
   "source": [
    "w, tr_acc, dv_acc =  gtnlplib.avg_perceptron.trainAvgPerceptron(10,tr_all,gtnlplib.features.wordCharFeatures,alltags)"
   ]
  },
  {
   "cell_type": "code",
   "execution_count": 19,
   "metadata": {
    "collapsed": false
   },
   "outputs": [
    {
     "data": {
      "text/plain": [
       "defaultdict(int,\n",
       "            {('!', '!'): 52,\n",
       "             ('!', ','): 2,\n",
       "             ('!', '@'): 1,\n",
       "             ('!', 'D'): 2,\n",
       "             ('!', 'N'): 19,\n",
       "             ('!', 'O'): 3,\n",
       "             ('!', 'R'): 2,\n",
       "             ('!', 'U'): 6,\n",
       "             ('!', 'V'): 3,\n",
       "             ('!', '^'): 9,\n",
       "             ('#', '!'): 1,\n",
       "             ('#', '#'): 5,\n",
       "             ('#', '@'): 8,\n",
       "             ('#', 'N'): 14,\n",
       "             ('#', 'R'): 1,\n",
       "             ('#', 'U'): 3,\n",
       "             ('#', 'V'): 15,\n",
       "             ('#', '^'): 5,\n",
       "             ('$', '!'): 1,\n",
       "             ('$', '$'): 51,\n",
       "             ('$', '@'): 5,\n",
       "             ('$', 'A'): 1,\n",
       "             ('$', 'N'): 3,\n",
       "             ('$', 'O'): 1,\n",
       "             ('$', 'P'): 5,\n",
       "             ('$', 'U'): 10,\n",
       "             ('$', 'V'): 2,\n",
       "             ('$', '^'): 6,\n",
       "             ('$', '~'): 1,\n",
       "             ('&', '&'): 87,\n",
       "             ('&', 'D'): 2,\n",
       "             ('&', 'R'): 1,\n",
       "             ('&', 'Z'): 1,\n",
       "             (',', ','): 459,\n",
       "             (',', '@'): 1,\n",
       "             (',', 'E'): 2,\n",
       "             (',', 'G'): 1,\n",
       "             (',', '~'): 37,\n",
       "             ('@', '$'): 5,\n",
       "             ('@', '@'): 153,\n",
       "             ('@', 'E'): 2,\n",
       "             ('@', 'G'): 1,\n",
       "             ('@', 'N'): 27,\n",
       "             ('@', 'O'): 2,\n",
       "             ('@', 'P'): 1,\n",
       "             ('@', 'R'): 1,\n",
       "             ('@', 'U'): 6,\n",
       "             ('@', 'V'): 29,\n",
       "             ('@', 'Z'): 2,\n",
       "             ('@', '^'): 14,\n",
       "             ('A', '!'): 2,\n",
       "             ('A', '$'): 1,\n",
       "             ('A', '@'): 4,\n",
       "             ('A', 'A'): 112,\n",
       "             ('A', 'N'): 58,\n",
       "             ('A', 'O'): 2,\n",
       "             ('A', 'P'): 1,\n",
       "             ('A', 'R'): 11,\n",
       "             ('A', 'T'): 1,\n",
       "             ('A', 'U'): 3,\n",
       "             ('A', 'V'): 36,\n",
       "             ('A', '^'): 8,\n",
       "             ('D', '!'): 3,\n",
       "             ('D', '@'): 2,\n",
       "             ('D', 'D'): 288,\n",
       "             ('D', 'G'): 1,\n",
       "             ('D', 'L'): 3,\n",
       "             ('D', 'N'): 7,\n",
       "             ('D', 'P'): 4,\n",
       "             ('D', 'R'): 1,\n",
       "             ('D', 'V'): 1,\n",
       "             ('D', '^'): 2,\n",
       "             ('E', '$'): 2,\n",
       "             ('E', ','): 3,\n",
       "             ('E', 'E'): 34,\n",
       "             ('E', 'G'): 1,\n",
       "             ('E', 'N'): 1,\n",
       "             ('E', 'U'): 3,\n",
       "             ('E', 'V'): 2,\n",
       "             ('E', '^'): 2,\n",
       "             ('E', '~'): 4,\n",
       "             ('G', ','): 12,\n",
       "             ('G', '@'): 1,\n",
       "             ('G', 'E'): 1,\n",
       "             ('G', 'G'): 18,\n",
       "             ('G', 'N'): 10,\n",
       "             ('G', 'O'): 4,\n",
       "             ('G', 'P'): 1,\n",
       "             ('G', 'R'): 1,\n",
       "             ('G', 'U'): 4,\n",
       "             ('G', 'V'): 6,\n",
       "             ('G', '^'): 3,\n",
       "             ('G', '~'): 4,\n",
       "             ('L', 'D'): 2,\n",
       "             ('L', 'L'): 46,\n",
       "             ('L', 'N'): 8,\n",
       "             ('L', 'U'): 1,\n",
       "             ('L', 'V'): 5,\n",
       "             ('L', '^'): 3,\n",
       "             ('N', '!'): 4,\n",
       "             ('N', '$'): 2,\n",
       "             ('N', '&'): 1,\n",
       "             ('N', ','): 1,\n",
       "             ('N', '@'): 6,\n",
       "             ('N', 'A'): 4,\n",
       "             ('N', 'E'): 5,\n",
       "             ('N', 'G'): 4,\n",
       "             ('N', 'N'): 508,\n",
       "             ('N', 'O'): 1,\n",
       "             ('N', 'P'): 5,\n",
       "             ('N', 'R'): 8,\n",
       "             ('N', 'U'): 6,\n",
       "             ('N', 'V'): 73,\n",
       "             ('N', '^'): 31,\n",
       "             ('N', '~'): 1,\n",
       "             ('O', '$'): 1,\n",
       "             ('O', '@'): 1,\n",
       "             ('O', 'D'): 12,\n",
       "             ('O', 'N'): 4,\n",
       "             ('O', 'O'): 304,\n",
       "             ('O', 'P'): 8,\n",
       "             ('O', 'V'): 1,\n",
       "             ('O', '^'): 2,\n",
       "             ('P', '$'): 2,\n",
       "             ('P', 'A'): 3,\n",
       "             ('P', 'D'): 1,\n",
       "             ('P', 'N'): 7,\n",
       "             ('P', 'P'): 411,\n",
       "             ('P', 'R'): 5,\n",
       "             ('P', 'T'): 5,\n",
       "             ('P', 'U'): 1,\n",
       "             ('P', 'V'): 4,\n",
       "             ('P', '^'): 1,\n",
       "             ('R', '!'): 2,\n",
       "             ('R', '&'): 1,\n",
       "             ('R', '@'): 2,\n",
       "             ('R', 'A'): 17,\n",
       "             ('R', 'D'): 2,\n",
       "             ('R', 'N'): 19,\n",
       "             ('R', 'P'): 13,\n",
       "             ('R', 'R'): 142,\n",
       "             ('R', 'S'): 1,\n",
       "             ('R', 'T'): 2,\n",
       "             ('R', 'V'): 6,\n",
       "             ('R', '^'): 2,\n",
       "             ('S', '@'): 1,\n",
       "             ('S', 'N'): 4,\n",
       "             ('T', 'N'): 1,\n",
       "             ('T', 'O'): 1,\n",
       "             ('T', 'P'): 4,\n",
       "             ('T', 'R'): 1,\n",
       "             ('T', 'T'): 29,\n",
       "             ('U', '$'): 6,\n",
       "             ('U', ','): 1,\n",
       "             ('U', '@'): 2,\n",
       "             ('U', 'E'): 1,\n",
       "             ('U', 'G'): 2,\n",
       "             ('U', 'N'): 14,\n",
       "             ('U', 'P'): 1,\n",
       "             ('U', 'U'): 39,\n",
       "             ('U', 'V'): 11,\n",
       "             ('U', '^'): 13,\n",
       "             ('U', '~'): 1,\n",
       "             ('V', '!'): 1,\n",
       "             ('V', ','): 1,\n",
       "             ('V', '@'): 16,\n",
       "             ('V', 'A'): 5,\n",
       "             ('V', 'E'): 1,\n",
       "             ('V', 'G'): 1,\n",
       "             ('V', 'N'): 67,\n",
       "             ('V', 'P'): 5,\n",
       "             ('V', 'R'): 2,\n",
       "             ('V', 'U'): 6,\n",
       "             ('V', 'V'): 635,\n",
       "             ('V', '^'): 7,\n",
       "             ('V', '~'): 4,\n",
       "             ('X', 'O'): 1,\n",
       "             ('X', 'R'): 2,\n",
       "             ('X', 'X'): 1,\n",
       "             ('Z', 'N'): 6,\n",
       "             ('Z', 'V'): 3,\n",
       "             ('^', '!'): 1,\n",
       "             ('^', '$'): 2,\n",
       "             ('^', ','): 1,\n",
       "             ('^', '@'): 29,\n",
       "             ('^', 'A'): 3,\n",
       "             ('^', 'D'): 2,\n",
       "             ('^', 'G'): 4,\n",
       "             ('^', 'N'): 118,\n",
       "             ('^', 'O'): 2,\n",
       "             ('^', 'P'): 1,\n",
       "             ('^', 'R'): 7,\n",
       "             ('^', 'U'): 13,\n",
       "             ('^', 'V'): 40,\n",
       "             ('^', '^'): 88,\n",
       "             ('~', ','): 27,\n",
       "             ('~', '~'): 143})"
      ]
     },
     "execution_count": 19,
     "metadata": {},
     "output_type": "execute_result"
    }
   ],
   "source": [
    "#You will get the test file later (48 hours before the deadline)\n",
    "gtnlplib.tagger_base.evalTagger(lambda words,alltags : gtnlplib.tagger_base.classifierTagger(words,gtnlplib.features.wordCharFeatures,w,alltags),'avg_perceptron.response',testfile=devfile)"
   ]
  },
  {
   "cell_type": "markdown",
   "metadata": {},
   "source": [
    "**Deliverable 1e** (3 points): Make it better! Design a killer feature set that improves performance on the devset.\n",
    "\n",
    "I'm able to get above 84% on the dev set, without going too crazy. Warning: my additional features slow things down considerably.\n",
    "\n",
    "\n",
    "Please complete yourFeatures function from gtnlplib/features.py for this.\n",
    "In order to pass unit tests for this you should be able to get at least 81%."
   ]
  },
  {
   "cell_type": "code",
   "execution_count": 20,
   "metadata": {
    "collapsed": false
   },
   "outputs": [
    {
     "data": {
      "text/plain": [
       "<module 'gtnlplib.features' from 'gtnlplib/features.pyc'>"
      ]
     },
     "execution_count": 20,
     "metadata": {},
     "output_type": "execute_result"
    }
   ],
   "source": [
    "reload(gtnlplib.features)"
   ]
  },
  {
   "cell_type": "code",
   "execution_count": 21,
   "metadata": {
    "collapsed": false
   },
   "outputs": [
    {
     "name": "stdout",
     "output_type": "stream",
     "text": [
      "0 dev: 0.807795977607 train: 0.685614611123\n",
      "1 dev: 0.826249222476 train: 0.84403857993\n",
      "2 dev: 0.834128136015 train: 0.890279772898\n",
      "3 dev: 0.838067592785 train: 0.914289623093\n",
      "4 dev: 0.839933651254 train: 0.925234284151\n",
      "5 dev: 0.840970350404 train: 0.940009576578\n",
      "6 dev: 0.840348330914 train: 0.948081264108\n",
      "7 dev: 0.839933651254 train: 0.952253916137\n",
      "8 dev: 0.837652913125 train: 0.957384226007\n",
      "9 dev: 0.837445573295 train: 0.964566659826\n",
      "10 dev: 0.837860252955 train: 0.965387509406\n",
      "11 dev: 0.839311631764 train: 0.968876120118\n",
      "12 dev: 0.840555670744 train: 0.970312606881\n",
      "13 dev: 0.841177690234 train: 0.972706751488\n",
      "14 dev: 0.842421729214 train: 0.972843559751\n"
     ]
    }
   ],
   "source": [
    "w, tr_acc, dv_acc = gtnlplib.avg_perceptron.trainAvgPerceptron(15,tr_all,gtnlplib.features.yourFeatures,alltags)"
   ]
  },
  {
   "cell_type": "code",
   "execution_count": 22,
   "metadata": {
    "collapsed": false
   },
   "outputs": [
    {
     "data": {
      "text/plain": [
       "defaultdict(int,\n",
       "            {('!', '!'): 68,\n",
       "             ('!', '#'): 1,\n",
       "             ('!', ','): 2,\n",
       "             ('!', 'D'): 1,\n",
       "             ('!', 'G'): 1,\n",
       "             ('!', 'N'): 12,\n",
       "             ('!', 'O'): 1,\n",
       "             ('!', 'R'): 3,\n",
       "             ('!', 'V'): 2,\n",
       "             ('!', '^'): 8,\n",
       "             ('#', '#'): 45,\n",
       "             ('#', 'N'): 2,\n",
       "             ('#', '^'): 5,\n",
       "             ('$', '#'): 2,\n",
       "             ('$', '$'): 68,\n",
       "             ('$', 'A'): 1,\n",
       "             ('$', 'E'): 1,\n",
       "             ('$', 'N'): 5,\n",
       "             ('$', 'O'): 1,\n",
       "             ('$', 'P'): 1,\n",
       "             ('$', 'R'): 1,\n",
       "             ('$', 'V'): 1,\n",
       "             ('$', '^'): 5,\n",
       "             ('&', '&'): 86,\n",
       "             ('&', 'D'): 2,\n",
       "             ('&', 'G'): 1,\n",
       "             ('&', 'N'): 1,\n",
       "             ('&', 'P'): 1,\n",
       "             (',', '$'): 1,\n",
       "             (',', ','): 484,\n",
       "             (',', 'E'): 3,\n",
       "             (',', 'G'): 1,\n",
       "             (',', 'V'): 1,\n",
       "             (',', '~'): 10,\n",
       "             ('@', '@'): 243,\n",
       "             ('A', '!'): 3,\n",
       "             ('A', '$'): 2,\n",
       "             ('A', ','): 1,\n",
       "             ('A', 'A'): 156,\n",
       "             ('A', 'D'): 1,\n",
       "             ('A', 'N'): 33,\n",
       "             ('A', 'P'): 2,\n",
       "             ('A', 'R'): 7,\n",
       "             ('A', 'T'): 2,\n",
       "             ('A', 'V'): 22,\n",
       "             ('A', '^'): 10,\n",
       "             ('D', '!'): 1,\n",
       "             ('D', '@'): 1,\n",
       "             ('D', 'A'): 1,\n",
       "             ('D', 'D'): 290,\n",
       "             ('D', 'G'): 1,\n",
       "             ('D', 'L'): 3,\n",
       "             ('D', 'N'): 1,\n",
       "             ('D', 'O'): 2,\n",
       "             ('D', 'P'): 2,\n",
       "             ('D', 'R'): 3,\n",
       "             ('D', 'V'): 2,\n",
       "             ('D', 'X'): 3,\n",
       "             ('D', '^'): 2,\n",
       "             ('E', '$'): 2,\n",
       "             ('E', ','): 8,\n",
       "             ('E', 'E'): 38,\n",
       "             ('E', 'G'): 1,\n",
       "             ('E', 'U'): 1,\n",
       "             ('E', '^'): 1,\n",
       "             ('E', '~'): 1,\n",
       "             ('G', '!'): 5,\n",
       "             ('G', '#'): 3,\n",
       "             ('G', '$'): 1,\n",
       "             ('G', ','): 12,\n",
       "             ('G', 'A'): 2,\n",
       "             ('G', 'E'): 4,\n",
       "             ('G', 'G'): 20,\n",
       "             ('G', 'L'): 1,\n",
       "             ('G', 'N'): 6,\n",
       "             ('G', 'O'): 1,\n",
       "             ('G', 'P'): 2,\n",
       "             ('G', 'R'): 1,\n",
       "             ('G', 'V'): 3,\n",
       "             ('G', '^'): 2,\n",
       "             ('G', '~'): 2,\n",
       "             ('L', 'D'): 2,\n",
       "             ('L', 'L'): 60,\n",
       "             ('L', 'P'): 1,\n",
       "             ('L', 'V'): 2,\n",
       "             ('N', '!'): 4,\n",
       "             ('N', '#'): 6,\n",
       "             ('N', '$'): 3,\n",
       "             ('N', '@'): 1,\n",
       "             ('N', 'A'): 19,\n",
       "             ('N', 'D'): 2,\n",
       "             ('N', 'E'): 2,\n",
       "             ('N', 'G'): 2,\n",
       "             ('N', 'L'): 1,\n",
       "             ('N', 'N'): 529,\n",
       "             ('N', 'O'): 2,\n",
       "             ('N', 'P'): 6,\n",
       "             ('N', 'R'): 3,\n",
       "             ('N', 'V'): 46,\n",
       "             ('N', 'X'): 1,\n",
       "             ('N', 'Z'): 1,\n",
       "             ('N', '^'): 31,\n",
       "             ('N', '~'): 1,\n",
       "             ('O', 'D'): 9,\n",
       "             ('O', 'N'): 2,\n",
       "             ('O', 'O'): 313,\n",
       "             ('O', 'P'): 5,\n",
       "             ('O', 'R'): 2,\n",
       "             ('O', 'V'): 1,\n",
       "             ('O', '^'): 1,\n",
       "             ('P', '!'): 1,\n",
       "             ('P', '$'): 3,\n",
       "             ('P', 'A'): 1,\n",
       "             ('P', 'D'): 2,\n",
       "             ('P', 'N'): 2,\n",
       "             ('P', 'O'): 3,\n",
       "             ('P', 'P'): 412,\n",
       "             ('P', 'R'): 7,\n",
       "             ('P', 'T'): 5,\n",
       "             ('P', 'V'): 2,\n",
       "             ('P', '^'): 2,\n",
       "             ('R', '!'): 3,\n",
       "             ('R', 'A'): 24,\n",
       "             ('R', 'D'): 1,\n",
       "             ('R', 'N'): 11,\n",
       "             ('R', 'P'): 7,\n",
       "             ('R', 'R'): 156,\n",
       "             ('R', 'S'): 1,\n",
       "             ('R', 'T'): 2,\n",
       "             ('R', '^'): 4,\n",
       "             ('S', 'G'): 1,\n",
       "             ('S', 'N'): 3,\n",
       "             ('S', 'S'): 1,\n",
       "             ('T', 'O'): 1,\n",
       "             ('T', 'P'): 7,\n",
       "             ('T', 'R'): 3,\n",
       "             ('T', 'T'): 25,\n",
       "             ('U', ','): 1,\n",
       "             ('U', 'N'): 1,\n",
       "             ('U', 'U'): 88,\n",
       "             ('U', 'V'): 1,\n",
       "             ('V', '!'): 3,\n",
       "             ('V', '#'): 2,\n",
       "             ('V', '&'): 1,\n",
       "             ('V', '@'): 1,\n",
       "             ('V', 'A'): 14,\n",
       "             ('V', 'D'): 1,\n",
       "             ('V', 'G'): 1,\n",
       "             ('V', 'N'): 45,\n",
       "             ('V', 'O'): 2,\n",
       "             ('V', 'P'): 4,\n",
       "             ('V', 'R'): 6,\n",
       "             ('V', 'T'): 1,\n",
       "             ('V', 'V'): 650,\n",
       "             ('V', 'X'): 1,\n",
       "             ('V', '^'): 17,\n",
       "             ('V', '~'): 2,\n",
       "             ('X', 'O'): 1,\n",
       "             ('X', 'R'): 3,\n",
       "             ('Z', 'N'): 2,\n",
       "             ('Z', 'Z'): 6,\n",
       "             ('Z', '^'): 1,\n",
       "             ('^', '!'): 4,\n",
       "             ('^', '#'): 3,\n",
       "             ('^', '$'): 4,\n",
       "             ('^', ','): 2,\n",
       "             ('^', 'A'): 14,\n",
       "             ('^', 'D'): 3,\n",
       "             ('^', 'G'): 3,\n",
       "             ('^', 'M'): 1,\n",
       "             ('^', 'N'): 71,\n",
       "             ('^', 'O'): 3,\n",
       "             ('^', 'P'): 2,\n",
       "             ('^', 'R'): 4,\n",
       "             ('^', 'U'): 1,\n",
       "             ('^', 'V'): 24,\n",
       "             ('^', 'Z'): 1,\n",
       "             ('^', '^'): 169,\n",
       "             ('^', '~'): 2,\n",
       "             ('~', ','): 14,\n",
       "             ('~', '~'): 156})"
      ]
     },
     "execution_count": 22,
     "metadata": {},
     "output_type": "execute_result"
    }
   ],
   "source": [
    "gtnlplib.tagger_base.evalTagger(lambda words,alltags : gtnlplib.tagger_base.classifierTagger(words,gtnlplib.features.yourFeatures,w,alltags),'avg_perceptron_custom.response',testfile=devfile)"
   ]
  },
  {
   "cell_type": "markdown",
   "metadata": {},
   "source": [
    "# 2. Discriminative Structure Prediction #\n",
    "\n",
    "Now you will implement a Structured Perceptron, which is trained to find the optimal *sequence* $\\vec{y} = \\text{arg}\\max_\\vec{y} \\theta^{\\top} \\vec{f}(\\vec{w},\\vec{y})$"
   ]
  },
  {
   "cell_type": "markdown",
   "metadata": {},
   "source": [
    "A key difference from the classification-based setting is that we compute features over the entire sequence.\n",
    "\n",
    "**Deliverable 2a** (1 point): Implement a function seqFeatures in gtnlplib/features.py , which takes a list of words, a list of tags, and a feature function, and returns a dictionary of features and their counts."
   ]
  },
  {
   "cell_type": "code",
   "execution_count": 23,
   "metadata": {
    "collapsed": false
   },
   "outputs": [
    {
     "data": {
      "text/plain": [
       "<module 'gtnlplib.features' from 'gtnlplib/features.pyc'>"
      ]
     },
     "execution_count": 23,
     "metadata": {},
     "output_type": "execute_result"
    }
   ],
   "source": [
    "reload(gtnlplib.features)"
   ]
  },
  {
   "cell_type": "code",
   "execution_count": 24,
   "metadata": {
    "collapsed": false
   },
   "outputs": [
    {
     "data": {
      "text/plain": [
       "defaultdict(float,\n",
       "            {('**OFFSET**', '--END--'): 1.0,\n",
       "             ('**OFFSET**', 'N'): 2.0,\n",
       "             ('**OFFSET**', 'V'): 2.0,\n",
       "             ('--EMISSION--', 'N', 'fish'): 1.0,\n",
       "             ('--EMISSION--', 'N', 'they'): 1.0,\n",
       "             ('--EMISSION--', 'V', 'can'): 2.0})"
      ]
     },
     "execution_count": 24,
     "metadata": {},
     "output_type": "execute_result"
    }
   ],
   "source": [
    "gtnlplib.features.seqFeatures(sent,['N','V','V','N'],wordFeatures)"
   ]
  },
  {
   "cell_type": "markdown",
   "metadata": {},
   "source": [
    "**Deliverable 2b** (1 point): now complete the function wordTransFeatures in gtnlplib/features.py, which adds tag-to-tag transition features to wordFeatures. Note that this feature set is identical to what the HMM uses."
   ]
  },
  {
   "cell_type": "code",
   "execution_count": 25,
   "metadata": {
    "collapsed": false
   },
   "outputs": [
    {
     "data": {
      "text/plain": [
       "defaultdict(float,\n",
       "            {('**OFFSET**', '--END--'): 1.0,\n",
       "             ('**OFFSET**', 'N'): 2.0,\n",
       "             ('**OFFSET**', 'V'): 2.0,\n",
       "             ('--EMISSION--', 'N', 'fish'): 1.0,\n",
       "             ('--EMISSION--', 'N', 'they'): 1.0,\n",
       "             ('--EMISSION--', 'V', 'can'): 2.0,\n",
       "             ('--TRANS--', '--END--', 'N'): 1.0,\n",
       "             ('--TRANS--', 'N', '--START--'): 1.0,\n",
       "             ('--TRANS--', 'N', 'V'): 1.0,\n",
       "             ('--TRANS--', 'V', 'N'): 1.0,\n",
       "             ('--TRANS--', 'V', 'V'): 1.0})"
      ]
     },
     "execution_count": 25,
     "metadata": {},
     "output_type": "execute_result"
    }
   ],
   "source": [
    "gtnlplib.features.seqFeatures(sent,['N','V','V','N'],gtnlplib.features.wordTransFeatures)"
   ]
  },
  {
   "cell_type": "markdown",
   "metadata": {},
   "source": [
    "**Deliverable 2c** (1 point): copy in your viterbiTagger from problem set 3. If you implemented it correctly, you should be able to use it without modification here."
   ]
  },
  {
   "cell_type": "code",
   "execution_count": 26,
   "metadata": {
    "collapsed": false
   },
   "outputs": [
    {
     "data": {
      "text/plain": [
       "<module 'gtnlplib.viterbi' from 'gtnlplib/viterbi.pyc'>"
      ]
     },
     "execution_count": 26,
     "metadata": {},
     "output_type": "execute_result"
    }
   ],
   "source": [
    "reload(gtnlplib.viterbi)"
   ]
  },
  {
   "cell_type": "code",
   "execution_count": 27,
   "metadata": {
    "collapsed": false
   },
   "outputs": [
    {
     "data": {
      "text/plain": [
       "(['N', 'V', 'V', 'N'], 8.0)"
      ]
     },
     "execution_count": 27,
     "metadata": {},
     "output_type": "execute_result"
    }
   ],
   "source": [
    "gtnlplib.viterbi.viterbiTagger(['they','can','can','fish'],gtnlplib.features.wordTransFeatures,test_weights,alltags)"
   ]
  },
  {
   "cell_type": "markdown",
   "metadata": {},
   "source": [
    "**Deliverable 2d** (3 points): Complete the function oneItAvgStructPerceptron in gtnlplib/str_perceptron.py, which performs a single iteration of averaged structured perceptron. It should be similar to your oneItAvgPerceptron, but will have to be different in some ways to reflect the structured prediction scenario.\n",
    "\n",
    "- To make predictions, you must call your viterbiTagger function\n",
    "- To compute the features for a given sequence of words and tags, you must call your seqFeatures function\n",
    "- As above, output the training accuracy, not the number of training errors"
   ]
  },
  {
   "cell_type": "code",
   "execution_count": 28,
   "metadata": {
    "collapsed": false
   },
   "outputs": [
    {
     "data": {
      "text/plain": [
       "<module 'gtnlplib.str_perceptron' from 'gtnlplib/str_perceptron.pyc'>"
      ]
     },
     "execution_count": 28,
     "metadata": {},
     "output_type": "execute_result"
    }
   ],
   "source": [
    "reload(gtnlplib.str_perceptron)"
   ]
  },
  {
   "cell_type": "markdown",
   "metadata": {},
   "source": [
    "Speed is important here. Use this line to benchmark your code.\n",
    "- My \"optimized\" implementation takes 1.1 seconds per iteration. \n",
    "- My \"less optimized\" implementation takes 1.6 seconds per iteration."
   ]
  },
  {
   "cell_type": "code",
   "execution_count": 29,
   "metadata": {
    "collapsed": false
   },
   "outputs": [
    {
     "name": "stdout",
     "output_type": "stream",
     "text": [
      "1 loops, best of 3: 1.26 s per loop\n"
     ]
    }
   ],
   "source": [
    "%%timeit\n",
    "weights,wsum,tr_acc,i = gtnlplib.str_perceptron.oneItAvgStructPerceptron(tr_all[:100],\n",
    "                                                                         gtnlplib.features.wordTransFeatures,\n",
    "                                                                         defaultdict(float),\n",
    "                                                                         defaultdict(float),\n",
    "                                                                         alltags)\n",
    "# careful, the %%timeit magic means that this block doesn't change the notebook state "
   ]
  },
  {
   "cell_type": "code",
   "execution_count": 30,
   "metadata": {
    "collapsed": true
   },
   "outputs": [],
   "source": [
    "weights,wsum,tr_acc,i = gtnlplib.str_perceptron.oneItAvgStructPerceptron(tr_all[:100],gtnlplib.features.wordTransFeatures,defaultdict(float),defaultdict(float),alltags)"
   ]
  },
  {
   "cell_type": "code",
   "execution_count": 31,
   "metadata": {
    "collapsed": false
   },
   "outputs": [
    {
     "name": "stdout",
     "output_type": "stream",
     "text": [
      "! ! -29.0 18.0\n",
      "! , 2.0 -49.0\n",
      "! @ 5.0 -75.0\n",
      "# # -3.0 -130.0\n",
      "# , -3.0 -329.0\n",
      "$ $ -14.0 -194.0\n",
      "$ , 1.0 -164.0\n",
      "& @ 2.0 127.0\n",
      ", ! 3.0 -196.0\n",
      ", # -4.0 -393.0\n",
      ", $ 3.0 68.0\n",
      ", & -3.0 -150.0\n",
      ", , -1.0 -43.0\n",
      ", A 3.0 158.0\n",
      ", @ 1.0 43.0\n",
      "A ! 2.0 108.0\n",
      "A , -1.0 -36.0\n",
      "A A -11.0 -400.0\n",
      "A @ -1.0 -33.0\n",
      "@ ! 1.0 95.0\n",
      "@ & 1.0 45.0\n",
      "@ @ -9.0 -412.0\n"
     ]
    }
   ],
   "source": [
    "for tag1 in list(alltags)[:7]:\n",
    "    for tag2 in list(alltags)[:7]:\n",
    "        if weights[gtnlplib.constants.TRANS,tag1,tag2] != 0:\n",
    "            print tag1,tag2,weights[(gtnlplib.constants.TRANS,tag1,tag2)],wsum[gtnlplib.constants.TRANS,tag1,tag2]"
   ]
  },
  {
   "cell_type": "markdown",
   "metadata": {},
   "source": [
    "**Deliverable 2e** (2 points): Implement trainAvgStructPerceptron in gtnlplib/str_perceptron.py. This will be quite similar to your trainAvgPerceptron from ps2, but will have to take slightly different arguments to handle the structured prediction case. Don't forget to use evalTagger to produce output."
   ]
  },
  {
   "cell_type": "code",
   "execution_count": 32,
   "metadata": {
    "collapsed": false
   },
   "outputs": [
    {
     "name": "stdout",
     "output_type": "stream",
     "text": [
      "0 dev: 0.373833713456 train: 0.207874015748\n",
      "1 dev: 0.428778768401 train: 0.363779527559\n",
      "2 dev: 0.472527472527 train: 0.587401574803\n",
      "3 dev: 0.494920174165 train: 0.749606299213\n",
      "4 dev: 0.513580758864 train: 0.763779527559\n"
     ]
    }
   ],
   "source": [
    "# your code should roughly reproduce this sanity check. It may be a little slow, so we'll just test on the first 50 instances.\n",
    "# While you're debugging your code, you can run on even smaller datasets.\n",
    "theta,tr_acc,dv_acc = gtnlplib.str_perceptron.trainAvgStructPerceptron(5,tr_all[:50],gtnlplib.features.wordTransFeatures,alltags)"
   ]
  },
  {
   "cell_type": "code",
   "execution_count": 36,
   "metadata": {
    "collapsed": false
   },
   "outputs": [
    {
     "name": "stdout",
     "output_type": "stream",
     "text": [
      "0 dev: 0.66369479577 train: 0.488542307955\n",
      "1 dev: 0.699979266017 train: 0.665366988166\n",
      "2 dev: 0.717395811735 train: 0.742253232095\n",
      "3 dev: 0.730250881194 train: 0.806484711677\n",
      "4 dev: 0.741861911673 train: 0.849716122854\n",
      "5 dev: 0.744764669293 train: 0.874820439155\n",
      "6 dev: 0.748496786233 train: 0.893015938163\n",
      "7 dev: 0.750155504872 train: 0.905055065326\n",
      "8 dev: 0.752850922662 train: 0.914700047883\n",
      "9 dev: 0.754924320962 train: 0.920445994938\n"
     ]
    }
   ],
   "source": [
    "theta,tr_acc,dv_acc = gtnlplib.str_perceptron.trainAvgStructPerceptron(10,tr_all,gtnlplib.features.wordTransFeatures,alltags)"
   ]
  },
  {
   "cell_type": "code",
   "execution_count": 33,
   "metadata": {
    "collapsed": false
   },
   "outputs": [],
   "source": [
    "confusion = gtnlplib.tagger_base.evalTagger(lambda words, alltags : gtnlplib.viterbi.viterbiTagger(words,gtnlplib.features.wordTransFeatures,theta,alltags)[0],'str_avg_perceptron.response',testfile=devfile)"
   ]
  },
  {
   "cell_type": "markdown",
   "metadata": {},
   "source": [
    "**Deliverable 2f** (3 points): Implement a better feature set for structured prediction by completing yourHMMFeatures function in gtnlplib/features.py. For speed reasons, you might not want to use all the features you used in 4e, but try to get as good an accuracy as you can. Last year I was able to get my structured perceptron to work a little better than my best classifier, but this year my classifier is (very slightly) better!"
   ]
  },
  {
   "cell_type": "code",
   "execution_count": 34,
   "metadata": {
    "collapsed": false
   },
   "outputs": [
    {
     "data": {
      "text/plain": [
       "<module 'gtnlplib.features' from 'gtnlplib/features.pyc'>"
      ]
     },
     "execution_count": 34,
     "metadata": {},
     "output_type": "execute_result"
    }
   ],
   "source": [
    "reload(gtnlplib.features)"
   ]
  },
  {
   "cell_type": "code",
   "execution_count": 36,
   "metadata": {
    "collapsed": false
   },
   "outputs": [
    {
     "name": "stdout",
     "output_type": "stream",
     "text": [
      "0 dev: 0.804685880158 train: 0.690950133388\n"
     ]
    }
   ],
   "source": [
    "theta,tr_acc,dv_acc = gtnlplib.str_perceptron.trainAvgStructPerceptron(1,tr_all,gtnlplib.features.yourHMMFeatures,alltags)"
   ]
  },
  {
   "cell_type": "code",
   "execution_count": 36,
   "metadata": {
    "collapsed": false
   },
   "outputs": [
    {
     "name": "stdout",
     "output_type": "stream",
     "text": [
      "0.841023489933\n"
     ]
    }
   ],
   "source": [
    "confusion = gtnlplib.tagger_base.evalTagger(lambda words, alltags : gtnlplib.viterbi.viterbiTagger(words,gtnlplib.features.yourHMMFeatures,theta,alltags)[0],'str_avg_perceptron_custom.response',testfile=devfile)\n",
    "print scorer.accuracy(confusion)"
   ]
  },
  {
   "cell_type": "markdown",
   "metadata": {},
   "source": [
    "# 3. Error analysis #\n",
    "\n",
    "(3 points; 7650 only). The scorer.py script produces a confusion matrix, which shows the most common types of errors. Consider your best tagger in any part of the assignment, and identify the three most frequent errors (e.g., N classified as V). Find an example sentence in your tagger has made each type of error, and explain why you think it made the mistake, and how it could be fixed. (If you are feeling competitive, you can then use this information to go back and try to improve your features.)"
   ]
  },
  {
   "cell_type": "markdown",
   "metadata": {},
   "source": [
    "I found the three most frequent errors are:\n",
    "\n",
    "1) N -> V\n",
    "e.g., ... one of the players (N -> V) and ...\n",
    "Here I used prefix features, so the palyers and play would have similar features. And since play appears more than palyers in the corpus, it can mislead the tagger (play is commonly marked as V). \n",
    "\n",
    "2) V -> N\n",
    "e.g., I want to sit.... and watch (V) the news and tune out... \n",
    "So in this case, 'watch' can either be V or N in a context free tagger. Although my tagger considered HMM features (order of 2), it is still not enough. Probabily here we should consider higer order HMM. \n",
    "\n",
    "3) ^ -> N\n",
    "e.g., I don't use Chrome (^) due to the lack of a good Twitter (^).\n",
    "I found this is the most common mistake my tagger can make. Since the ^ and N have similar grammer position, it is quite confusion for the tagger. So in this case, I should have collect some special '^' in order to keep a dictionary for the future tagging. I do considered some capitalization features, but that's not so useful. Maybe I haven't tried hard enough. \n",
    "\n"
   ]
  },
  {
   "cell_type": "markdown",
   "metadata": {},
   "source": [
    "# 4. Bakeoff! #\n",
    "\n",
    "48 hours before the assignment is due, we will send you unlabeled test data. Your job is to produce a response file that I can evaluate. I'll present the results in class and give the best scorers a chance to explain what they did.\n",
    "\n",
    "\n",
    "** Deliverable 4 ** (3 points) Run your best system from any part of the\n",
    "assignment on the test data using the `generateKaggleSubmission()` function. Submit\n",
    "your response file to the class [Kaggle bakeoff](https://inclass.kaggle.com/c/gt-book-review-sentiment-analysis). Also **submit your Kaggle response file to T-Square as 'lastname-firstname.response'.** The top\n",
    "scores will be announced in class.\n"
   ]
  },
  {
   "cell_type": "code",
   "execution_count": null,
   "metadata": {
    "collapsed": true
   },
   "outputs": [],
   "source": [
    "confusion = gtnlplib.tagger_base.evalTagger(lambda words, alltags : gtnlplib.viterbi.viterbiTagger(words,gtnlplib.features.yourHMMFeatures,theta,alltags)[0],'lastname-firstname.response',testfile=devfile)"
   ]
  }
 ],
 "metadata": {
  "kernelspec": {
   "display_name": "Python 2",
   "language": "python",
   "name": "python2"
  },
  "language_info": {
   "codemirror_mode": {
    "name": "ipython",
    "version": 2
   },
   "file_extension": ".py",
   "mimetype": "text/x-python",
   "name": "python",
   "nbconvert_exporter": "python",
   "pygments_lexer": "ipython2",
   "version": "2.7.6"
  }
 },
 "nbformat": 4,
 "nbformat_minor": 0
}
